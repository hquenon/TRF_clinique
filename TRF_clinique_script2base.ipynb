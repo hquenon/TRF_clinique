{
 "cells": [
  {
   "cell_type": "code",
   "execution_count": 2,
   "metadata": {
    "ExecuteTime": {
     "end_time": "2024-10-16T13:21:54.937699Z",
     "start_time": "2024-10-16T13:21:46.330649Z"
    },
    "collapsed": false
   },
   "outputs": [],
   "source": [
    "import tkinter as tk\n",
    "from tkinter import filedialog\n",
    "\n",
    "import scipy.io\n",
    "import os\n",
    "import numpy as np\n",
    "\n",
    "import gc\n",
    "\n",
    "from funcs import vhdr_to_mne, bipolar_montage, align, prepare_data, concatenation,load_sorciere_regressors, model_definition, trf_spyeeg"
   ]
  },
  {
   "cell_type": "markdown",
   "metadata": {
    "collapsed": false
   },
   "source": [
    "## paths"
   ]
  },
  {
   "cell_type": "code",
   "execution_count": 3,
   "metadata": {
    "ExecuteTime": {
     "end_time": "2024-10-16T13:23:18.790396Z",
     "start_time": "2024-10-16T13:22:48.627529Z"
    },
    "collapsed": false
   },
   "outputs": [
    {
     "name": "stdout",
     "output_type": "stream",
     "text": [
      "Fichiers sélectionnés:\n",
      "//139.124.148.123/seeg/Seeg_1998-2025/Seeg2025/sEEG_11_Nic_Ele/03.04/Sorcière/250403B-C_0013.vhdr\n",
      "Fichiers sélectionnés:\n",
      "//139.124.148.123/seeg/Seeg_1998-2025/Seeg2025/sEEG_11_Nic_Ele/03.04/Piano/250403B-C_0004.vhdr\n",
      "//139.124.148.123/seeg/Seeg_1998-2025/Seeg2025/sEEG_11_Nic_Ele/03.04/Piano/250403B-C_0006.vhdr\n",
      "//139.124.148.123/seeg/Seeg_1998-2025/Seeg2025/sEEG_11_Nic_Ele/03.04/Piano/250403B-C_0008.vhdr\n",
      "//139.124.148.123/seeg/Seeg_1998-2025/Seeg2025/sEEG_11_Nic_Ele/03.04/Piano/250403B-C_0010.vhdr\n",
      "Chemin vers le dossier de sortie sélectionné: C:/Users/nadege/Desktop/camille/seeg/agnes/Nic_Ele\n"
     ]
    }
   ],
   "source": [
    "# first 'select a folder direction 'patient espace''\n",
    "# then, select the sorciere file in the NAS (sorcière = file.vhdr)\n",
    "# then, select the pianos files in the NAS (pianos = [file.vhdr, file.vhdr..]\n",
    "# Fonction pour sélectionner le chemin vers le dossier \"sorciere\"\n",
    "def select_sorciere_path():\n",
    "    global sorciere_path\n",
    "    sorciere_path = filedialog.askopenfilenames()\n",
    "    if sorciere_path:\n",
    "        print(\"Fichiers sélectionnés:\")\n",
    "        for file in sorciere_path:\n",
    "            print(file)\n",
    "\n",
    "#  Fonction pour sélectionner le chemin vers le dossier \"piano\"\n",
    "def select_piano_path():\n",
    "    global piano_path\n",
    "    piano_path = filedialog.askopenfilenames()\n",
    "    if piano_path:\n",
    "        print(\"Fichiers sélectionnés:\")\n",
    "        for file in piano_path:\n",
    "            print(file)\n",
    "\n",
    "\n",
    "# Fonction pour sélectionner le chemin vers le dossier de sortie\n",
    "def select_out_path():\n",
    "    global out_path\n",
    "    out_path = filedialog.askdirectory()\n",
    "    if out_path:\n",
    "        print(\"Chemin vers le dossier de sortie sélectionné:\", out_path)\n",
    "\n",
    "# Création de la fenêtre principale\n",
    "root = tk.Tk()\n",
    "root.title(\"Ouvrir\")\n",
    "\n",
    "# Déclaration des variables pour stocker les chemins sélectionnés\n",
    "sorciere_path = \"\"\n",
    "piano_path = \"\"\n",
    "out_path = \"\"\n",
    "\n",
    "# Boutons pour sélectionner les chemins vers les dossiers\n",
    "sorciere_button = tk.Button(root, text=\"Select Sorcière *.vhdr (on NAS)\", command=select_sorciere_path)\n",
    "sorciere_button.pack(pady=5)\n",
    "\n",
    "piano_button = tk.Button(root, text=\"Select Pianos *.vhdr (on NAS)\", command=select_piano_path)\n",
    "piano_button.pack(pady=5)\n",
    "\n",
    "out_button = tk.Button(root, text=\"Select patient workspace (locally)\", command=select_out_path)\n",
    "out_button.pack(pady=5)\n",
    "\n",
    "root.mainloop()\n",
    "\n",
    "# Vous pouvez maintenant utiliser les variables sorciere_path, piano_path et out_path dans votre application.\n"
   ]
  },
  {
   "cell_type": "markdown",
   "metadata": {
    "collapsed": false
   },
   "source": [
    "## Import .vhdr to mne"
   ]
  },
  {
   "cell_type": "code",
   "execution_count": 4,
   "metadata": {
    "ExecuteTime": {
     "end_time": "2024-10-16T13:35:33.013671Z",
     "start_time": "2024-10-16T13:35:20.476210Z"
    },
    "collapsed": false
   },
   "outputs": [
    {
     "name": "stdout",
     "output_type": "stream",
     "text": [
      "//139.124.148.123/seeg/Seeg_1998-2025/Seeg2025/sEEG_11_Nic_Ele/03.04/Sorcière/250403B-C_0013.vhdr\n",
      "250403B-C_0013.vhdr\n",
      "Extracting parameters from //139.124.148.123/seeg/Seeg_1998-2025/Seeg2025/sEEG_11_Nic_Ele/03.04/Sorcière\\250403B-C_0013.vhdr...\n"
     ]
    },
    {
     "name": "stdout",
     "output_type": "stream",
     "text": [
      "Setting channel info structure...\n",
      "Reading 0 ... 294911  =      0.000 ...   575.998 secs...\n",
      "//139.124.148.123/seeg/Seeg_1998-2025/Seeg2025/sEEG_11_Nic_Ele/03.04/Piano/250403B-C_0004.vhdr\n",
      "250403B-C_0004.vhdr\n",
      "Extracting parameters from //139.124.148.123/seeg/Seeg_1998-2025/Seeg2025/sEEG_11_Nic_Ele/03.04/Piano\\250403B-C_0004.vhdr...\n",
      "Setting channel info structure...\n",
      "Reading 0 ... 51199  =      0.000 ...    99.998 secs...\n"
     ]
    },
    {
     "name": "stderr",
     "output_type": "stream",
     "text": [
      "c:\\Users\\nadege\\Desktop\\camille\\seeg\\agnes\\funcs.py:35: RuntimeWarning: Limited 1 annotation(s) that were expanding outside the data range.\n",
      "  raw_fif.append(mne.io.read_raw_brainvision(os.path.join(path, file), preload=True))\n"
     ]
    },
    {
     "name": "stdout",
     "output_type": "stream",
     "text": [
      "//139.124.148.123/seeg/Seeg_1998-2025/Seeg2025/sEEG_11_Nic_Ele/03.04/Piano/250403B-C_0006.vhdr\n",
      "250403B-C_0006.vhdr\n",
      "Extracting parameters from //139.124.148.123/seeg/Seeg_1998-2025/Seeg2025/sEEG_11_Nic_Ele/03.04/Piano\\250403B-C_0006.vhdr...\n",
      "Setting channel info structure...\n",
      "Reading 0 ... 65535  =      0.000 ...   127.998 secs...\n"
     ]
    },
    {
     "name": "stderr",
     "output_type": "stream",
     "text": [
      "c:\\Users\\nadege\\Desktop\\camille\\seeg\\agnes\\funcs.py:35: RuntimeWarning: Limited 1 annotation(s) that were expanding outside the data range.\n",
      "  raw_fif.append(mne.io.read_raw_brainvision(os.path.join(path, file), preload=True))\n"
     ]
    },
    {
     "name": "stdout",
     "output_type": "stream",
     "text": [
      "//139.124.148.123/seeg/Seeg_1998-2025/Seeg2025/sEEG_11_Nic_Ele/03.04/Piano/250403B-C_0008.vhdr\n",
      "250403B-C_0008.vhdr\n",
      "Extracting parameters from //139.124.148.123/seeg/Seeg_1998-2025/Seeg2025/sEEG_11_Nic_Ele/03.04/Piano\\250403B-C_0008.vhdr...\n",
      "Setting channel info structure...\n",
      "Reading 0 ... 93183  =      0.000 ...   181.998 secs...\n"
     ]
    },
    {
     "name": "stderr",
     "output_type": "stream",
     "text": [
      "c:\\Users\\nadege\\Desktop\\camille\\seeg\\agnes\\funcs.py:35: RuntimeWarning: Limited 1 annotation(s) that were expanding outside the data range.\n",
      "  raw_fif.append(mne.io.read_raw_brainvision(os.path.join(path, file), preload=True))\n"
     ]
    },
    {
     "name": "stdout",
     "output_type": "stream",
     "text": [
      "//139.124.148.123/seeg/Seeg_1998-2025/Seeg2025/sEEG_11_Nic_Ele/03.04/Piano/250403B-C_0010.vhdr\n",
      "250403B-C_0010.vhdr\n",
      "Extracting parameters from //139.124.148.123/seeg/Seeg_1998-2025/Seeg2025/sEEG_11_Nic_Ele/03.04/Piano\\250403B-C_0010.vhdr...\n",
      "Setting channel info structure...\n",
      "Reading 0 ... 29695  =      0.000 ...    57.998 secs...\n"
     ]
    },
    {
     "name": "stderr",
     "output_type": "stream",
     "text": [
      "c:\\Users\\nadege\\Desktop\\camille\\seeg\\agnes\\funcs.py:35: RuntimeWarning: Limited 1 annotation(s) that were expanding outside the data range.\n",
      "  raw_fif.append(mne.io.read_raw_brainvision(os.path.join(path, file), preload=True))\n",
      "c:\\Users\\nadege\\Desktop\\camille\\seeg\\agnes\\funcs.py:35: RuntimeWarning: Limited 1 annotation(s) that were expanding outside the data range.\n",
      "  raw_fif.append(mne.io.read_raw_brainvision(os.path.join(path, file), preload=True))\n"
     ]
    }
   ],
   "source": [
    "sorciere_mne = vhdr_to_mne(sorciere_path)\n",
    "pianos_mne = vhdr_to_mne(piano_path)"
   ]
  },
  {
   "cell_type": "code",
   "execution_count": 5,
   "metadata": {
    "ExecuteTime": {
     "end_time": "2024-10-16T13:35:36.837385Z",
     "start_time": "2024-10-16T13:35:36.831708Z"
    },
    "collapsed": false
   },
   "outputs": [],
   "source": [
    "piano_path, file = os.path.split(piano_path[0])\n",
    "sorciere_path, file = os.path.split(sorciere_path[0])\n",
    "del file"
   ]
  },
  {
   "cell_type": "code",
   "execution_count": 6,
   "metadata": {
    "ExecuteTime": {
     "end_time": "2024-10-16T13:36:54.673852Z",
     "start_time": "2024-10-16T13:36:54.649866Z"
    },
    "collapsed": false
   },
   "outputs": [],
   "source": [
    "stim_piano = [file for file in os.listdir(piano_path+'/stim') if os.path.isfile(os.path.join(piano_path+'/stim', file)) and file.endswith('.mp3')]\n",
    "stim_sorcière = [file for file in os.listdir(sorciere_path+'/stim') if os.path.isfile(os.path.join(sorciere_path+'/stim', file)) and file.endswith('.mp3')]"
   ]
  },
  {
   "cell_type": "code",
   "execution_count": 7,
   "metadata": {
    "collapsed": false
   },
   "outputs": [
    {
     "data": {
      "text/plain": [
       "['sorciere_2ms_trig.mp3']"
      ]
     },
     "execution_count": 7,
     "metadata": {},
     "output_type": "execute_result"
    }
   ],
   "source": [
    "stim_sorcière"
   ]
  },
  {
   "cell_type": "markdown",
   "metadata": {
    "collapsed": false
   },
   "source": [
    "## Montage bipolaire\n",
    "\n",
    "Do a bipolar montage en soustrayant l'activité de deux shaft consécutives /!\\ de le même electrode"
   ]
  },
  {
   "cell_type": "code",
   "execution_count": 8,
   "metadata": {
    "ExecuteTime": {
     "end_time": "2024-10-16T13:37:22.884002Z",
     "start_time": "2024-10-16T13:37:05.131432Z"
    },
    "collapsed": false
   },
   "outputs": [],
   "source": [
    "sorciere_bipol, channels_bipol = bipolar_montage(sorciere_mne[0], chans=True)\n",
    "sorciere_bipol = [sorciere_bipol]\n",
    "\n",
    "pianos_bipol = []\n",
    "for piano in pianos_mne :\n",
    "    pianos_bipol.append(bipolar_montage(piano, chans=False))"
   ]
  },
  {
   "cell_type": "code",
   "execution_count": 9,
   "metadata": {
    "ExecuteTime": {
     "end_time": "2024-10-16T13:37:35.081019Z",
     "start_time": "2024-10-16T13:37:34.514459Z"
    },
    "collapsed": false
   },
   "outputs": [],
   "source": [
    "#Trier les channels dans l'ordre alphabétique et numérique\n",
    "def custom_sort(value):\n",
    "    # Séparer la partie alphabétique et numérique\n",
    "    alpha_part = ''.join(filter(lambda x: x.isalpha() or x == \"'\", value))\n",
    "    num_part = int(''.join(filter(str.isdigit, value)))\n",
    "    return alpha_part, num_part\n",
    "\n",
    "sorted_channels_bipol = sorted(channels_bipol, key=custom_sort)\n",
    "\n",
    "# Sorciere\n",
    "sorciere_bipol_sorted = [np.empty_like(sorciere_bipol[0])]\n",
    "for i, channel_name in enumerate(sorted_channels_bipol):\n",
    "    channel_index = channels_bipol.index(channel_name)\n",
    "    sorciere_bipol_sorted[0][:, i] = sorciere_bipol[0][:, channel_index]\n",
    "\n",
    "# Pianos\n",
    "pianos_bipol_sorted = []\n",
    "for piano in pianos_bipol :\n",
    "    sorted_piano_bipol = np.empty_like(piano)\n",
    "    for i, channel_name in enumerate(sorted_channels_bipol):\n",
    "        channel_index = channels_bipol.index(channel_name)\n",
    "        sorted_piano_bipol[:, i] = piano[:, channel_index]\n",
    "    pianos_bipol_sorted.append(sorted_piano_bipol)\n",
    "\n",
    "del sorted_piano_bipol"
   ]
  },
  {
   "cell_type": "code",
   "execution_count": 10,
   "metadata": {
    "ExecuteTime": {
     "end_time": "2024-10-16T13:37:36.618203Z",
     "start_time": "2024-10-16T13:37:36.512954Z"
    },
    "collapsed": false
   },
   "outputs": [],
   "source": [
    "scipy.io.savemat(out_path+'/channels.mat', {'ch':np.array(sorted_channels_bipol)})"
   ]
  },
  {
   "cell_type": "code",
   "execution_count": 11,
   "metadata": {},
   "outputs": [],
   "source": [
    "import mne\n",
    "from pydub import AudioSegment\n",
    "from collections import Counter\n",
    "import matplotlib.pyplot as plt\n",
    "from scipy.signal import correlate\n",
    "\n",
    "def align_origin(raw_fif, raw_array, stim_dir) :\n",
    "  stim_name = os.path.basename(stim_dir)\n",
    "\n",
    "  #load .mp3\n",
    "  aud = AudioSegment.from_file(stim_dir, format=\"mp3\")\n",
    "  fs_stim = aud.frame_rate\n",
    "\n",
    "  # stereo format : audio/trigger\n",
    "  chans = aud.split_to_mono()\n",
    "  trigg = chans[1].get_array_of_samples()  # triggers\n",
    "\n",
    "  # binarized triggers\n",
    "  thrsh_exceed_idx = []\n",
    "  seuil = 3000\n",
    "  for idx, valeur in enumerate(trigg):\n",
    "    if valeur > seuil and trigg[idx - 1] < seuil and trigg[idx - 2] < seuil:\n",
    "      thrsh_exceed_idx.append(idx)\n",
    "\n",
    "  trigg_stim = np.array(thrsh_exceed_idx)\n",
    "  trigg_stim = trigg_stim / fs_stim\n",
    "\n",
    "  # load data\n",
    "  fs_data = raw_fif.info['sfreq']\n",
    "\n",
    "  # find events\n",
    "  orig_events, events_dict = mne.events_from_annotations(raw_fif)\n",
    "  #take only trigg of interest\n",
    "  counter = Counter(orig_events[:, 2])\n",
    "  t_int = counter.most_common(1)[0][0]\n",
    "  trigg_data_samples = np.squeeze(orig_events[np.where(orig_events[:, 2] == t_int), 0])\n",
    "  #trigg_data_samples = trigg_data_samples[5:]\n",
    "  trigg_data_secondes = trigg_data_samples / fs_data\n",
    "\n",
    "  plt.figure()\n",
    "  plt.vlines(trigg_data_secondes, 0,1, label = \"trigg_data\")\n",
    "  plt.vlines(trigg_stim, 1,2, color='orange', label = \"trigg_stim\")\n",
    "  plt.xlim(0,10)\n",
    "  plt.legend()\n",
    "  plt.title(\"before alignement\")\n",
    "\n",
    "  print('data :', len(trigg_data_secondes))\n",
    "  print('stim :', len(trigg_stim))\n",
    "\n",
    "  i=0\n",
    "  max_iteration = 150\n",
    "  while True:\n",
    "    if len(trigg_data_secondes) == len(trigg_stim):\n",
    "      print('same numbre of trigger')\n",
    "      trigg_stim_zero = trigg_stim - trigg_stim[0]\n",
    "      trigg_data_zero = trigg_data_secondes - trigg_data_secondes[0]\n",
    "\n",
    "    elif len(trigg_data_secondes) < len(trigg_stim):\n",
    "      print('< number of trigger')\n",
    "      if i >= len(trigg_stim):  # Si i dépasse la taille de trigg_stim\n",
    "          print(f\"Stopping: i ({i}) exceeded trigg_stim size ({len(trigg_stim)})\")\n",
    "          break\n",
    "      trigg_stim_zero = trigg_stim - trigg_stim[i]\n",
    "      trigg_data_zero = trigg_data_secondes - trigg_data_secondes[0]\n",
    "\n",
    "    elif len(trigg_data_secondes) > len(trigg_stim):\n",
    "      print('> number of trigger')\n",
    "      if i >= len(trigg_data_secondes):  # Si i dépasse la taille de trigg_data_secondes\n",
    "          print(f\"Stopping: i ({i}) exceeded trigg_data_secondes size ({len(trigg_data_secondes)})\")\n",
    "          break\n",
    "      trigg_stim_zero = trigg_stim - trigg_stim[0]\n",
    "      trigg_data_zero = trigg_data_secondes - trigg_data_secondes[i]\n",
    "\n",
    "    # calcul delay between all triggs\n",
    "    matrice_differences = np.zeros((len(trigg_data_zero), len(trigg_stim_zero)))\n",
    "    for j in range(len(trigg_data_zero)):\n",
    "      for k in range(len(trigg_stim_zero)):\n",
    "        matrice_differences[j, k] = trigg_data_zero[j] - trigg_stim_zero[k]\n",
    "\n",
    "    # take only closest pairs of trigger\n",
    "    if len(trigg_data_zero) <= len(trigg_stim_zero):\n",
    "      trigg_stim_zero_syncr = []\n",
    "      for j in range(len(trigg_data_zero)):\n",
    "        idx_syncr = np.argmin(np.abs(matrice_differences[j, :]))\n",
    "        trigg_stim_zero_syncr.append(trigg_stim_zero[idx_syncr])\n",
    "      # calcul delay between closest pairs\n",
    "      matrice_differences_ = np.zeros((len(trigg_data_zero), len(trigg_stim_zero_syncr)))\n",
    "      for j in range(len(trigg_data_zero)):\n",
    "        for k in range(len(trigg_stim_zero_syncr)):\n",
    "          matrice_differences_[j, k] = trigg_data_zero[j] - trigg_stim_zero_syncr[k]\n",
    "      # calcul delay between closest pairs\n",
    "      matrice_differences_ = np.zeros((len(trigg_data_zero), len(trigg_stim_zero_syncr)))\n",
    "      for j in range(len(trigg_data_zero)):\n",
    "        for k in range(len(trigg_stim_zero_syncr)):\n",
    "          matrice_differences_[j, k] = trigg_data_zero[j] - trigg_stim_zero_syncr[k]\n",
    "\n",
    "    elif len(trigg_data_zero) > len(trigg_stim_zero):\n",
    "      trigg_data_zero_syncr = []\n",
    "      for j in range(len(trigg_stim_zero)):\n",
    "        idx_syncr = np.argmin(np.abs(matrice_differences[:, j]))\n",
    "        trigg_data_zero_syncr.append(trigg_data_zero[idx_syncr])\n",
    "      # calcul delay between closest pairs\n",
    "      matrice_differences_ = np.zeros((len(trigg_data_zero_syncr), len(trigg_stim_zero)))\n",
    "      for j in range(len(trigg_data_zero_syncr)):\n",
    "        for k in range(len(trigg_stim_zero)):\n",
    "          matrice_differences_[j, k] = trigg_data_zero_syncr[j] - trigg_stim_zero[k]\n",
    "      # calcul delay between closest pairs\n",
    "      matrice_differences_ = np.zeros((len(trigg_data_zero_syncr), len(trigg_stim_zero)))\n",
    "      for j in range(len(trigg_data_zero_syncr)):\n",
    "        for k in range(len(trigg_stim_zero)):\n",
    "          matrice_differences_[j, k] = trigg_data_zero_syncr[j] - trigg_stim_zero[k]\n",
    "\n",
    "    # mean delay\n",
    "    tmp = np.mean(np.diagonal(matrice_differences_))\n",
    "    print(np.abs(round(tmp, 4)))\n",
    "    if np.abs(round(tmp, 4)) > 0.005 :\n",
    "      i+=1\n",
    "      continue\n",
    "\n",
    "    else :\n",
    "      if i == 0 :\n",
    "        raw_array_ = raw_array[trigg_data_samples[0]:trigg_data_samples[-1],:]\n",
    "        plt.figure()\n",
    "        plt.vlines(trigg_data_zero, 0,1, label = \"trigg_data\")\n",
    "        plt.vlines(trigg_stim_zero, 1,2, color='orange', label = \"trigg_stim\")\n",
    "        plt.xlim(-1,10)\n",
    "        plt.legend()\n",
    "        plt.title(\"after alignement\")\n",
    "      else :\n",
    "        if len(trigg_data_secondes) < len(trigg_stim):\n",
    "          raw_array_ = raw_array[trigg_data_samples[0]:trigg_data_samples[-1],:]\n",
    "          zrs = int((trigg_stim[i]-trigg_stim[0])*fs_data)\n",
    "          add_zeros = np.zeros((zrs, raw_array_.shape[1]))\n",
    "          raw_array_ = np.concatenate((add_zeros, raw_array_), axis=0)\n",
    "\n",
    "        elif len(trigg_data_secondes) > len(trigg_stim):\n",
    "          raw_array_ = raw_array[trigg_data_samples[i]:trigg_data_samples[-1],:]\n",
    "      break\n",
    "\n",
    "  return raw_array_"
   ]
  },
  {
   "cell_type": "markdown",
   "metadata": {
    "collapsed": false
   },
   "source": [
    "## Align"
   ]
  },
  {
   "cell_type": "code",
   "execution_count": 12,
   "metadata": {
    "collapsed": false
   },
   "outputs": [
    {
     "name": "stdout",
     "output_type": "stream",
     "text": [
      "Used Annotations descriptions: ['Comment/?', 'Comment/D?but', 'Stimulus/S 192', 'Stimulus/S 200']\n",
      "data : 581\n",
      "stim : 585\n",
      "< number of trigger\n",
      "0.0143\n",
      "< number of trigger\n",
      "0.0367\n",
      "< number of trigger\n",
      "0.0507\n",
      "< number of trigger\n",
      "0.0004\n",
      "Used Annotations descriptions: ['Comment/?', 'Comment/D?but', 'Stimulus/S 192', 'Stimulus/S 200']\n",
      "data : 99\n",
      "stim : 152\n",
      "< number of trigger\n",
      "0.0185\n",
      "< number of trigger\n",
      "0.001\n",
      "Used Annotations descriptions: ['Comment/?', 'Comment/D?but', 'Stimulus/S 128', 'Stimulus/S 192', 'Stimulus/S 200']\n",
      "data : 126\n",
      "stim : 103\n",
      "> number of trigger\n",
      "0.0442\n",
      "> number of trigger\n",
      "0.0367\n",
      "> number of trigger\n",
      "0.0309\n",
      "> number of trigger\n",
      "0.0281\n",
      "> number of trigger\n",
      "0.0386\n",
      "> number of trigger\n",
      "0.0024\n",
      "Used Annotations descriptions: ['Comment/?', 'Comment/D?but', 'Stimulus/S 128', 'Stimulus/S 192', 'Stimulus/S 200', 'Stimulus/S 201']\n",
      "data : 183\n",
      "stim : 130\n",
      "> number of trigger\n",
      "0.0065\n",
      "> number of trigger\n",
      "0.0062\n",
      "> number of trigger\n",
      "0.0658\n",
      "> number of trigger\n",
      "0.012\n",
      "> number of trigger\n",
      "0.013\n",
      "> number of trigger\n",
      "0.0199\n",
      "> number of trigger\n",
      "0.0125\n",
      "> number of trigger\n",
      "0.016\n",
      "> number of trigger\n",
      "0.0229\n",
      "> number of trigger\n",
      "0.0297\n",
      "> number of trigger\n",
      "0.0061\n",
      "> number of trigger\n",
      "0.0238\n",
      "> number of trigger\n",
      "0.0482\n",
      "> number of trigger\n",
      "0.0276\n",
      "> number of trigger\n",
      "0.0041\n",
      "Used Annotations descriptions: ['Comment/?', 'Comment/D?but', 'Stimulus/S 192', 'Stimulus/S 200']\n",
      "data : 58\n",
      "stim : 187\n",
      "< number of trigger\n",
      "0.067\n",
      "< number of trigger\n",
      "0.0169\n",
      "< number of trigger\n",
      "0.0086\n",
      "< number of trigger\n",
      "0.0359\n",
      "< number of trigger\n",
      "0.0013\n"
     ]
    }
   ],
   "source": [
    "%matplotlib qt\n",
    "sorciere_aligned = align(raw_fif=sorciere_mne[0], raw_array=sorciere_bipol_sorted[0], stim_dir=os.path.join(sorciere_path,'stim', stim_sorcière[0]))\n",
    "\n",
    "pianos_aligned=[]\n",
    "for i in range(len(pianos_bipol_sorted)):\n",
    "    pianos_aligned.append(align(raw_fif=pianos_mne[i], raw_array=pianos_bipol_sorted[i], stim_dir=os.path.join(piano_path,'stim', stim_piano[i])))"
   ]
  },
  {
   "cell_type": "markdown",
   "metadata": {
    "collapsed": false
   },
   "source": [
    "## Filtering 0.1-8Hz - Z-scoring - Downsampling"
   ]
  },
  {
   "cell_type": "code",
   "execution_count": 13,
   "metadata": {
    "ExecuteTime": {
     "end_time": "2024-05-30T14:13:33.152138Z",
     "start_time": "2024-05-30T14:12:21.783391Z"
    },
    "collapsed": false
   },
   "outputs": [
    {
     "name": "stdout",
     "output_type": "stream",
     "text": [
      "(50113, 178)\n",
      "(62530, 178)\n",
      "(86609, 178)\n",
      "(29378, 178)\n"
     ]
    }
   ],
   "source": [
    "high_pass = 0.1\n",
    "low_pass = 35\n",
    "\n",
    "fs_data = sorciere_mne[0].info['sfreq']\n",
    "\n",
    "pianos_downsampled = []\n",
    "\n",
    "sorciere_ultimate = prepare_data(data= sorciere_aligned, picks=sorted_channels_bipol, high_pass=high_pass, low_pass=low_pass, fs_data=fs_data)\n",
    "for data in pianos_aligned :\n",
    "    print(data.shape)\n",
    "    pianos_downsampled.append(prepare_data(data=data, picks=sorted_channels_bipol, high_pass=high_pass, low_pass=low_pass, fs_data=fs_data))"
   ]
  },
  {
   "cell_type": "markdown",
   "metadata": {
    "collapsed": false
   },
   "source": [
    "## Concatenate Pianos & Load Pianos regressors"
   ]
  },
  {
   "cell_type": "code",
   "execution_count": 14,
   "metadata": {
    "ExecuteTime": {
     "end_time": "2024-05-30T14:13:33.818025Z",
     "start_time": "2024-05-30T14:13:33.152138Z"
    },
    "collapsed": false
   },
   "outputs": [],
   "source": [
    "# define and load concatenated data and regressors for piano\n",
    "pianos_ultimate, pianos_regs_all, pianos_regs_all_labels, fs = concatenation(pianos_downsampled, piano_path, stim_piano)"
   ]
  },
  {
   "cell_type": "code",
   "execution_count": 15,
   "metadata": {},
   "outputs": [
    {
     "data": {
      "text/plain": [
       "['A1-A2',\n",
       " 'A2-A3',\n",
       " 'A3-A4',\n",
       " 'A4-A5',\n",
       " 'A5-A6',\n",
       " 'A6-A7',\n",
       " 'A7-A8',\n",
       " 'A8-A9',\n",
       " 'A9-A10',\n",
       " 'A10-A11',\n",
       " 'A11-A12',\n",
       " 'A12-A13',\n",
       " 'A13-A14',\n",
       " 'C1-C2',\n",
       " 'C2-C3',\n",
       " 'C3-C4',\n",
       " 'C4-C5',\n",
       " 'C5-C6',\n",
       " 'C6-C7',\n",
       " 'C7-C8',\n",
       " 'C8-C9',\n",
       " 'C9-C10',\n",
       " 'C10-C11',\n",
       " 'C11-C12',\n",
       " 'CC1-CC2',\n",
       " 'CC2-CC3',\n",
       " 'CC3-CC4',\n",
       " 'CC4-CC5',\n",
       " 'CC5-CC6',\n",
       " 'CC6-CC7',\n",
       " 'CC7-CC8',\n",
       " 'CC8-CC9',\n",
       " 'CC9-CC10',\n",
       " 'CC10-CC11',\n",
       " 'CR1-CR2',\n",
       " 'CR2-CR3',\n",
       " 'CR3-CR4',\n",
       " 'CR4-CR5',\n",
       " 'CR5-CR6',\n",
       " 'CR6-CR7',\n",
       " 'CR7-CR8',\n",
       " 'CR8-CR9',\n",
       " 'CR9-CR10',\n",
       " 'CR10-CR11',\n",
       " 'FT1-FT2',\n",
       " 'FT2-FT3',\n",
       " 'FT3-FT4',\n",
       " 'FT4-FT5',\n",
       " 'FT5-FT6',\n",
       " 'FT6-FT7',\n",
       " 'FT7-FT8',\n",
       " 'FT8-FT9',\n",
       " 'FT9-FT10',\n",
       " 'FT10-FT11',\n",
       " 'FT11-FT12',\n",
       " 'FT12-FT13',\n",
       " 'FT13-FT14',\n",
       " 'H1-H2',\n",
       " 'H2-H3',\n",
       " 'H3-H4',\n",
       " 'H4-H5',\n",
       " 'H5-H6',\n",
       " 'H6-H7',\n",
       " 'H7-H8',\n",
       " 'H8-H9',\n",
       " 'H9-H10',\n",
       " 'H10-H11',\n",
       " 'H11-H12',\n",
       " 'H12-H13',\n",
       " 'H13-H14',\n",
       " 'H14-H15',\n",
       " 'H15-H16',\n",
       " 'Ia1-Ia2',\n",
       " 'Ia2-Ia3',\n",
       " 'Ia3-Ia4',\n",
       " 'Ia4-Ia5',\n",
       " 'Ia5-Ia6',\n",
       " 'Ia6-Ia7',\n",
       " 'Ia7-Ia8',\n",
       " 'Ia8-Ia9',\n",
       " 'Ia9-Ia10',\n",
       " 'Ia10-Ia11',\n",
       " 'Ia11-Ia12',\n",
       " 'Ia12-Ia13',\n",
       " 'Ia13-Ia14',\n",
       " 'Ia14-Ia15',\n",
       " 'Ia15-Ia16',\n",
       " 'Ia16-Ia17',\n",
       " 'Im1-Im2',\n",
       " 'Im2-Im3',\n",
       " 'Im3-Im4',\n",
       " 'Im4-Im5',\n",
       " 'Im5-Im6',\n",
       " 'Im6-Im7',\n",
       " 'Im7-Im8',\n",
       " 'Im8-Im9',\n",
       " 'Im9-Im10',\n",
       " 'Im10-Im11',\n",
       " 'Im11-Im12',\n",
       " 'Im12-Im13',\n",
       " 'Im13-Im14',\n",
       " 'Im14-Im15',\n",
       " 'Im15-Im16',\n",
       " 'OF1-OF2',\n",
       " 'OF2-OF3',\n",
       " 'OF3-OF4',\n",
       " 'OF4-OF5',\n",
       " 'OF5-OF6',\n",
       " 'OF6-OF7',\n",
       " 'OF7-OF8',\n",
       " 'OF8-OF9',\n",
       " 'OF9-OF10',\n",
       " 'OF10-OF11',\n",
       " 'OF11-OF12',\n",
       " 'OP1-OP2',\n",
       " 'OP2-OP3',\n",
       " 'OP3-OP4',\n",
       " 'OP4-OP5',\n",
       " 'OP5-OP6',\n",
       " 'OP6-OP7',\n",
       " 'OP7-OP8',\n",
       " 'OP8-OP9',\n",
       " 'OP9-OP10',\n",
       " 'OP10-OP11',\n",
       " 'OP11-OP12',\n",
       " 'OR1-OR2',\n",
       " 'OR2-OR3',\n",
       " 'OR3-OR4',\n",
       " 'OR4-OR9',\n",
       " 'OR9-OR10',\n",
       " 'OR10-OR11',\n",
       " 'OR11-OR12',\n",
       " 'OR12-OR13',\n",
       " 'OR13-OR14',\n",
       " 'OR14-OR15',\n",
       " 'PI1-PI2',\n",
       " 'PI2-PI3',\n",
       " 'PI3-PI4',\n",
       " 'PI4-PI5',\n",
       " 'PI5-PI6',\n",
       " 'PI6-PI7',\n",
       " 'PI7-PI8',\n",
       " 'PI8-PI9',\n",
       " 'PI9-PI10',\n",
       " 'PI10-PI11',\n",
       " 'PI11-PI12',\n",
       " 'PI12-PI13',\n",
       " 'PI13-PI14',\n",
       " 'PI14-PI15',\n",
       " 'PI15-PI16',\n",
       " 'PI16-PI17',\n",
       " 'TB1-TB2',\n",
       " 'TB2-TB3',\n",
       " 'TB3-TB4',\n",
       " 'TB4-TB5',\n",
       " 'TB5-TB6',\n",
       " 'TB6-TB7',\n",
       " 'TB7-TB8',\n",
       " 'TB8-TB9',\n",
       " 'TB9-TB10',\n",
       " 'TB10-TB11',\n",
       " 'TP1-TP2',\n",
       " 'TP2-TP3',\n",
       " 'TP3-TP4',\n",
       " 'TP4-TP5',\n",
       " 'TP5-TP6',\n",
       " 'TP6-TP7',\n",
       " 'TP7-TP8',\n",
       " 'TP8-TP9',\n",
       " 'T1-T2',\n",
       " 'T2-T3',\n",
       " 'T3-T4',\n",
       " 'T4-T5',\n",
       " 'T5-T6',\n",
       " 'T6-T7',\n",
       " 'T7-T8',\n",
       " 'T8-T9',\n",
       " 'T9-T10']"
      ]
     },
     "execution_count": 15,
     "metadata": {},
     "output_type": "execute_result"
    }
   ],
   "source": [
    "sorted_channels_bipol"
   ]
  },
  {
   "cell_type": "markdown",
   "metadata": {
    "collapsed": false
   },
   "source": [
    "## Load Sorcière regressors"
   ]
  },
  {
   "cell_type": "code",
   "execution_count": 17,
   "metadata": {},
   "outputs": [
    {
     "name": "stdout",
     "output_type": "stream",
     "text": [
      "textgrids importé avec succès.\n"
     ]
    }
   ],
   "source": [
    "import sys\n",
    "sys.path.append(r\"C:\\Users\\nadege\\mambaforge\\Lib\\site-packages\")\n",
    "import textgrids\n",
    "print(\"textgrids importé avec succès.\")\n"
   ]
  },
  {
   "cell_type": "code",
   "execution_count": 18,
   "metadata": {
    "ExecuteTime": {
     "end_time": "2024-05-30T14:13:34.203511Z",
     "start_time": "2024-05-30T14:13:33.818025Z"
    },
    "collapsed": false
   },
   "outputs": [],
   "source": [
    "sorciere_ultimate, sorciere_regs_all, sorciere_regs_all_label = load_sorciere_regressors(sorciere_path, sorciere_ultimate)"
   ]
  },
  {
   "cell_type": "code",
   "execution_count": 19,
   "metadata": {},
   "outputs": [
    {
     "name": "stdout",
     "output_type": "stream",
     "text": [
      "Socière regressors labels:\n",
      "0: loudness\n",
      "1: brightness\n",
      "2: pitch\n",
      "3: periodicity\n",
      "4: roughness\n",
      "5: spectral_flux\n",
      "6: der_loudness\n",
      "7: der_brightness\n",
      "8: der_pitch\n",
      "9: der_periodicity\n",
      "10: der_roughness\n",
      "11: der_spectral_flux\n",
      "12: half_rectified_der_loudness\n",
      "13: half_rectified_der_brightness\n",
      "14: half_rectified_der_pitch\n",
      "15: half_rectified_der_periodicity\n",
      "16: half_rectified_der_roughness\n",
      "17: half_rectified_der_spectral_flux\n",
      "18: syllabe_onset\n",
      "19: onsets\n",
      "20: entropy\n",
      "21: surprise\n",
      "\n",
      "Pianos regressors labels:\n",
      "0: envelope\n",
      "1: der_envelope_hr\n",
      "2: onset\n",
      "3: surprise\n",
      "4: surprise_positive\n"
     ]
    }
   ],
   "source": [
    "print(\"Socière regressors labels:\")\n",
    "for idx, label in enumerate(sorciere_regs_all_label):\n",
    "    print(f\"{idx}: {label}\")\n",
    "\n",
    "print(\"\\nPianos regressors labels:\")\n",
    "for idx, label in enumerate(pianos_regs_all_labels):\n",
    "    print(f\"{idx}: {label}\")\n"
   ]
  },
  {
   "cell_type": "markdown",
   "metadata": {
    "collapsed": false
   },
   "source": [
    "## Define models"
   ]
  },
  {
   "cell_type": "code",
   "execution_count": null,
   "metadata": {
    "ExecuteTime": {
     "end_time": "2024-05-30T14:13:34.235844Z",
     "start_time": "2024-05-30T14:13:34.203511Z"
    },
    "collapsed": false
   },
   "outputs": [],
   "source": [
    "# Sorcière\n",
    "# Acoustic regressors: loudness, brightness, periodicity + derivatives_hr + onset syllabe\n",
    "model_acoustic_names = [\n",
    "    'loudness',\n",
    "    'brightness',\n",
    "    'periodicity',\n",
    "    'half_rectified_der_loudness',\n",
    "    'half_rectified_der_brightness',\n",
    "    'half_rectified_der_periodicity',\n",
    "    'syllabe_onset'\n",
    "]\n",
    "\n",
    "# Predictive regressors: acoustic + onsets + entropy\n",
    "model_predictif_names = [\n",
    "    'loudness',\n",
    "    'brightness',\n",
    "    'periodicity',\n",
    "    'half_rectified_der_loudness',\n",
    "    'half_rectified_der_brightness',\n",
    "    'half_rectified_der_periodicity',\n",
    "    'syllabe_onset',\n",
    "    'onsets',\n",
    "    'entropy'\n",
    "]\n",
    "\n",
    "sorciere_regs_acoustic, sorciere_regs_acoustic_label, sorciere_regs_predictive, sorciere_regs_predictive_labels = model_definition(\n",
    "    sorciere_regs_all,\n",
    "    sorciere_regs_all_label,\n",
    "    model_acoustic_names,\n",
    "    model_predictif_names\n",
    ")\n",
    "\n",
    "\n",
    "# Pianos\n",
    "# Acoustic regressors: envelope, der_envelope_hr, onset\n",
    "model_acoustic_names = [\n",
    "    'envelope',\n",
    "    'der_envelope_hr',\n",
    "    'onset'\n",
    "]\n",
    "\n",
    "# Predictive regressors: acoustic + surprise + surprise_positive\n",
    "model_predictif_names = [\n",
    "    'envelope',\n",
    "    'der_envelope_hr',\n",
    "    'onset',\n",
    "    'surprise',\n",
    "    'surprise_positive'\n",
    "]\n",
    "\n",
    "pianos_regs_acoustic, pianos_regs_acoustic_label, pianos_regs_predictive, pianos_regs_predictive_labels = model_definition(\n",
    "    pianos_regs_all,\n",
    "    pianos_regs_all_labels,\n",
    "    model_acoustic_names,\n",
    "    model_predictif_names\n",
    ")\n"
   ]
  },
  {
   "cell_type": "markdown",
   "metadata": {
    "collapsed": false
   },
   "source": [
    "## TRF"
   ]
  },
  {
   "cell_type": "code",
   "execution_count": 18,
   "metadata": {
    "ExecuteTime": {
     "end_time": "2024-05-30T14:13:34.250682Z",
     "start_time": "2024-05-30T14:13:34.235844Z"
    },
    "collapsed": false
   },
   "outputs": [],
   "source": [
    "from datetime import datetime\n",
    "\n",
    "start_at = datetime.now()"
   ]
  },
  {
   "cell_type": "code",
   "execution_count": 19,
   "metadata": {
    "ExecuteTime": {
     "end_time": "2024-05-30T14:13:34.260699Z",
     "start_time": "2024-05-30T14:13:34.250682Z"
    },
    "collapsed": false
   },
   "outputs": [],
   "source": [
    "n_folds = 5\n",
    "tw_trf = [-2, 2]  #in sec\n",
    "\n",
    "coefs_times = np.linspace(tw_trf[0], tw_trf[1], int(np.diff(tw_trf) * fs + 1))  #get TRF time-axis\n",
    "\n",
    "alphas = [1e-4, 1e-2, 1e2, 1e4, 1e6, 1e8]"
   ]
  },
  {
   "cell_type": "markdown",
   "metadata": {
    "collapsed": false
   },
   "source": [
    "### Sorcière : acoustic TRF"
   ]
  },
  {
   "cell_type": "code",
   "execution_count": 20,
   "metadata": {},
   "outputs": [
    {
     "name": "stdout",
     "output_type": "stream",
     "text": [
      "Bibliothèque importée avec succès.\n"
     ]
    }
   ],
   "source": [
    "import sys\n",
    "sys.path.append(r\"C:\\Users\\nadege\\mambaforge\\Lib\\site-packages\")\n",
    "import spyeeg\n",
    "print(\"Bibliothèque importée avec succès.\")"
   ]
  },
  {
   "cell_type": "code",
   "execution_count": 21,
   "metadata": {
    "ExecuteTime": {
     "end_time": "2024-05-30T14:20:51.641298Z",
     "start_time": "2024-05-30T14:13:34.260699Z"
    },
    "collapsed": false
   },
   "outputs": [
    {
     "data": {
      "text/plain": [
       "0"
      ]
     },
     "execution_count": 21,
     "metadata": {},
     "output_type": "execute_result"
    }
   ],
   "source": [
    "sorciere_regs_acoustic_scores_cv, sorciere_regs_acoustic_coefs_fit = trf_spyeeg(\n",
    "                                                    regs = np.squeeze(sorciere_regs_acoustic),\n",
    "                                                    data = np.squeeze(sorciere_ultimate),\n",
    "                                                    tmin=tw_trf[0], tmax=tw_trf[1],\n",
    "                                                    fs=fs,\n",
    "                                                    alpha=alphas,\n",
    "                                                    channels=sorted_channels_bipol)\n",
    "\n",
    "\n",
    "# save r2 in .mat format\n",
    "scipy.io.savemat(out_path+'/sorciere_acoustic.mat',\n",
    "                 {'data' : sorciere_ultimate,\n",
    "                  'channels': sorted_channels_bipol,\n",
    "                  'r2': sorciere_regs_acoustic_scores_cv,\n",
    "                  'kernels':sorciere_regs_acoustic_coefs_fit,\n",
    "                  'fs': fs})\n",
    "\n",
    "gc.collect()"
   ]
  },
  {
   "cell_type": "markdown",
   "metadata": {
    "collapsed": false
   },
   "source": [
    "### Sorcière : predictive TRF"
   ]
  },
  {
   "cell_type": "code",
   "execution_count": 22,
   "metadata": {
    "ExecuteTime": {
     "end_time": "2024-05-30T14:35:32.810139Z",
     "start_time": "2024-05-30T14:20:51.646285Z"
    },
    "collapsed": false
   },
   "outputs": [
    {
     "data": {
      "text/plain": [
       "0"
      ]
     },
     "execution_count": 22,
     "metadata": {},
     "output_type": "execute_result"
    }
   ],
   "source": [
    "sorciere_regs_predictive_scores_cv, sorciere_regs_predictive_coefs_fit = trf_spyeeg(\n",
    "regs = np.squeeze(sorciere_regs_predictive),\n",
    "data = np.squeeze(sorciere_ultimate),\n",
    "tmin=tw_trf[0], tmax=tw_trf[1],\n",
    "fs=fs,alpha=alphas,channels=sorted_channels_bipol)\n",
    "\n",
    "# save r2 in .mat format\n",
    "scipy.io.savemat(out_path+'/sorciere_predictive.mat',\n",
    "                 {'data' : sorciere_ultimate,\n",
    "                  'channels': sorted_channels_bipol,\n",
    "                  'r2': sorciere_regs_predictive_scores_cv,\n",
    "                  'kernels':sorciere_regs_predictive_coefs_fit,\n",
    "                  'fs': fs})\n",
    "\n",
    "gc.collect()"
   ]
  },
  {
   "cell_type": "markdown",
   "metadata": {
    "collapsed": false
   },
   "source": [
    "### Pianos : acoustic TRF"
   ]
  },
  {
   "cell_type": "code",
   "execution_count": 23,
   "metadata": {
    "ExecuteTime": {
     "end_time": "2024-05-30T14:36:29.386895Z",
     "start_time": "2024-05-30T14:35:32.810139Z"
    },
    "collapsed": false
   },
   "outputs": [
    {
     "data": {
      "text/plain": [
       "0"
      ]
     },
     "execution_count": 23,
     "metadata": {},
     "output_type": "execute_result"
    }
   ],
   "source": [
    "pianos_regs_acoustic_scores_cv, pianos_regs_acoustic_coefs_fit = trf_spyeeg(\n",
    "    regs = np.squeeze(pianos_regs_acoustic),\n",
    "    data = np.squeeze(pianos_ultimate),\n",
    "    tmin=tw_trf[0], tmax=tw_trf[1],\n",
    "    fs=fs,\n",
    "    alpha=alphas,\n",
    "    channels=sorted_channels_bipol)\n",
    "\n",
    "# save r2 in .mat format\n",
    "scipy.io.savemat(out_path+'/pianos_acoustic.mat',\n",
    "                 {'data' : pianos_ultimate,\n",
    "                  'channels': sorted_channels_bipol,\n",
    "                  'r2': pianos_regs_acoustic_scores_cv,\n",
    "                  'kernels':pianos_regs_acoustic_coefs_fit,\n",
    "                  'fs': fs})\n",
    "\n",
    "gc.collect()"
   ]
  },
  {
   "cell_type": "markdown",
   "metadata": {
    "collapsed": false
   },
   "source": [
    "### Pianos : predictive TRF"
   ]
  },
  {
   "cell_type": "code",
   "execution_count": 24,
   "metadata": {
    "ExecuteTime": {
     "end_time": "2024-05-30T14:39:30.344581Z",
     "start_time": "2024-05-30T14:36:29.386895Z"
    },
    "collapsed": false
   },
   "outputs": [
    {
     "data": {
      "text/plain": [
       "0"
      ]
     },
     "execution_count": 24,
     "metadata": {},
     "output_type": "execute_result"
    }
   ],
   "source": [
    "pianos_regs_predictive_scores_cv, pianos_regs_predictive_coefs_fit = trf_spyeeg(\n",
    "    regs = np.squeeze(pianos_regs_predictive),\n",
    "    data = np.squeeze(pianos_ultimate),\n",
    "    tmin=tw_trf[0], tmax=tw_trf[1],\n",
    "    fs=fs,\n",
    "    alpha=alphas,\n",
    "    channels=sorted_channels_bipol)\n",
    "\n",
    "\n",
    "# save r2 in .mat format\n",
    "scipy.io.savemat(out_path+'/pianos_predictive.mat',\n",
    "                 {'data' : pianos_ultimate,\n",
    "                  'channels': sorted_channels_bipol,\n",
    "                  'r2': pianos_regs_predictive_scores_cv,\n",
    "                  'kernels':pianos_regs_predictive_coefs_fit,\n",
    "                  'fs': fs})\n",
    "\n",
    "gc.collect()"
   ]
  },
  {
   "cell_type": "markdown",
   "metadata": {},
   "source": [
    "### Generate a .txt file with scores "
   ]
  },
  {
   "cell_type": "code",
   "execution_count": 25,
   "metadata": {
    "ExecuteTime": {
     "end_time": "2024-05-30T14:39:30.369505Z",
     "start_time": "2024-05-30T14:39:30.344581Z"
    }
   },
   "outputs": [],
   "source": [
    "# Create the full path to the file\n",
    "filename = os.path.join(out_path, 'scores.txt')\n",
    "\n",
    "with open(filename, 'w') as file:\n",
    "    # Write the header with aligned columns\n",
    "    file.write(f'{\"Channel\":<10}{\"Speech Acoustic (in %)\":<25}{\"Speech Predictif (in %)\":<30}{\"Music Acoustic (in %)\":<30}{\"Music Predictif (in %)\":<30}\\n')\n",
    "\n",
    "    # Write data to the file\n",
    "    for chan, scr1, scr2, scr3, scr4 in zip(sorted_channels_bipol, sorciere_regs_acoustic_scores_cv, sorciere_regs_predictive_scores_cv, pianos_regs_acoustic_scores_cv, pianos_regs_predictive_scores_cv):\n",
    "        file.write(f'{chan:<15}{round(scr1*100,2):<30}{round(scr2*100,2):<25}{round(scr3*100,2):<30}{round(scr4*100,2):<20}\\n')\n"
   ]
  },
  {
   "cell_type": "markdown",
   "metadata": {
    "collapsed": false
   },
   "source": [
    "## Plot results"
   ]
  },
  {
   "cell_type": "markdown",
   "metadata": {
    "collapsed": false
   },
   "source": [
    "### R2, PCI & ERP - with matlab"
   ]
  },
  {
   "cell_type": "code",
   "execution_count": 26,
   "metadata": {
    "ExecuteTime": {
     "end_time": "2024-05-30T17:38:07.616302Z",
     "start_time": "2024-05-30T14:39:30.369505Z"
    },
    "collapsed": false
   },
   "outputs": [
    {
     "name": "stdout",
     "output_type": "stream",
     "text": [
      "Start at : 2025-04-25 15:43:39.619272\n",
      "End at: 2025-04-25 15:44:48.550983\n"
     ]
    }
   ],
   "source": [
    "import matlab.engine\n",
    "from datetime import datetime\n",
    "\n",
    "print('Start at :', datetime.now())\n",
    "\n",
    "\n",
    "# Démarrer le moteur MATLAB\n",
    "eng = matlab.engine.start_matlab()\n",
    "# run MATLAB script\n",
    "eng.eval(f\"out_path = '{out_path}'; run('C:/Users/nadege/Desktop/camille/seeg/agnes/sEEG_rsqr_pci.m')\", nargout=0)\n",
    "#eng.eval(f\"out_path = '{out_path}'; run('//dynaserv/home/trebuchon/Desktop/Python_code/sEEG_rsqr_pci.m')\", nargout=0)\n",
    "\n",
    "\n",
    "print(\"End at:\", datetime.now())"
   ]
  }
 ],
 "metadata": {
  "kernelspec": {
   "display_name": "mon_env_mne_2",
   "language": "python",
   "name": "mon_env_mne_2"
  },
  "language_info": {
   "codemirror_mode": {
    "name": "ipython",
    "version": 3
   },
   "file_extension": ".py",
   "mimetype": "text/x-python",
   "name": "python",
   "nbconvert_exporter": "python",
   "pygments_lexer": "ipython3",
   "version": "3.10.9"
  }
 },
 "nbformat": 4,
 "nbformat_minor": 0
}
