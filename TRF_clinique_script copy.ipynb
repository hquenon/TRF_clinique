{
 "cells": [
  {
   "cell_type": "code",
   "execution_count": 4,
   "metadata": {
    "ExecuteTime": {
     "end_time": "2024-10-16T13:21:54.937699Z",
     "start_time": "2024-10-16T13:21:46.330649Z"
    },
    "collapsed": false
   },
   "outputs": [
    {
     "name": "stdout",
     "output_type": "stream",
     "text": [
      "c:\\Users\\nadege\\anaconda3\\envs\\mon_env_mne_2\\python.exe\n",
      "c:\\Users\\nadege\\anaconda3\\envs\\mon_env_mne_2\\lib\\site-packages\\spyeeg\\__init__.py\n"
     ]
    }
   ],
   "source": [
    "import tkinter as tk\n",
    "from tkinter import filedialog\n",
    "\n",
    "import scipy.io\n",
    "import os\n",
    "import numpy as np\n",
    "import sys\n",
    "print(sys.executable)\n",
    "import textgrids\n",
    "import spyeeg\n",
    "print(spyeeg.__file__)\n",
    "\n",
    "import gc\n",
    "\n",
    "from funcs import vhdr_to_mne, bipolar_montage, prepare_data, concatenation,load_sorciere_regressors"
   ]
  },
  {
   "cell_type": "markdown",
   "metadata": {
    "collapsed": false
   },
   "source": [
    "## paths"
   ]
  },
  {
   "cell_type": "code",
   "execution_count": 102,
   "metadata": {
    "ExecuteTime": {
     "end_time": "2024-10-16T13:23:18.790396Z",
     "start_time": "2024-10-16T13:22:48.627529Z"
    },
    "collapsed": false
   },
   "outputs": [
    {
     "name": "stdout",
     "output_type": "stream",
     "text": [
      "Fichiers sélectionnés:\n",
      "//139.124.148.123/seeg/Seeg_1998-2025/Seeg2025/sEEG_13_Fou_Ali/24.04/Sorcière/250424C-B_0017.vhdr\n",
      "Fichiers sélectionnés:\n",
      "//139.124.148.123/seeg/Seeg_1998-2025/Seeg2025/sEEG_13_Fou_Ali/24.04/Piano/250424C-B_0005.vhdr\n",
      "//139.124.148.123/seeg/Seeg_1998-2025/Seeg2025/sEEG_13_Fou_Ali/24.04/Piano/250424C-B_0007.vhdr\n",
      "//139.124.148.123/seeg/Seeg_1998-2025/Seeg2025/sEEG_13_Fou_Ali/24.04/Piano/250424C-B_0009.vhdr\n",
      "//139.124.148.123/seeg/Seeg_1998-2025/Seeg2025/sEEG_13_Fou_Ali/24.04/Piano/250424C-B_0011.vhdr\n",
      "//139.124.148.123/seeg/Seeg_1998-2025/Seeg2025/sEEG_13_Fou_Ali/24.04/Piano/250424C-B_0014.vhdr\n",
      "Chemin vers le dossier de sortie sélectionné: C:/Users/nadege/Desktop/camille/seeg/agnes/Fou_Ali/1000perm\n"
     ]
    }
   ],
   "source": [
    "# first 'select a folder direction 'patient espace''\n",
    "# then, select the sorciere file in the NAS (sorcière = file.vhdr)\n",
    "# then, select the pianos files in the NAS (pianos = [file.vhdr, file.vhdr..]\n",
    "# Fonction pour sélectionner le chemin vers le dossier \"sorciere\"\n",
    "def select_sorciere_path():\n",
    "    global sorciere_path\n",
    "    sorciere_path = filedialog.askopenfilenames()\n",
    "    if sorciere_path:\n",
    "        print(\"Fichiers sélectionnés:\")\n",
    "        for file in sorciere_path:\n",
    "            print(file)\n",
    "\n",
    "#  Fonction pour sélectionner le chemin vers le dossier \"piano\"\n",
    "def select_piano_path():\n",
    "    global piano_path\n",
    "    piano_path = filedialog.askopenfilenames()\n",
    "    if piano_path:\n",
    "        print(\"Fichiers sélectionnés:\")\n",
    "        for file in piano_path:\n",
    "            print(file)\n",
    "\n",
    "\n",
    "# Fonction pour sélectionner le chemin vers le dossier de sortie\n",
    "def select_out_path():\n",
    "    global out_path\n",
    "    out_path = filedialog.askdirectory()\n",
    "    if out_path:\n",
    "        print(\"Chemin vers le dossier de sortie sélectionné:\", out_path)\n",
    "\n",
    "# Création de la fenêtre principale\n",
    "root = tk.Tk()\n",
    "root.title(\"Ouvrir\")\n",
    "\n",
    "# Déclaration des variables pour stocker les chemins sélectionnés\n",
    "sorciere_path = \"\"\n",
    "piano_path = \"\"\n",
    "out_path = \"\"\n",
    "\n",
    "# Boutons pour sélectionner les chemins vers les dossiers\n",
    "sorciere_button = tk.Button(root, text=\"Select Sorcière *.vhdr (on NAS)\", command=select_sorciere_path)\n",
    "sorciere_button.pack(pady=5)\n",
    "\n",
    "piano_button = tk.Button(root, text=\"Select Pianos *.vhdr (on NAS)\", command=select_piano_path)\n",
    "piano_button.pack(pady=5)\n",
    "\n",
    "out_button = tk.Button(root, text=\"Select patient workspace (locally)\", command=select_out_path)\n",
    "out_button.pack(pady=5)\n",
    "\n",
    "root.mainloop()\n",
    "\n",
    "# Vous pouvez maintenant utiliser les variables sorciere_path, piano_path et out_path dans votre application.\n"
   ]
  },
  {
   "cell_type": "markdown",
   "metadata": {
    "collapsed": false
   },
   "source": [
    "## Import .vhdr to mne"
   ]
  },
  {
   "cell_type": "code",
   "execution_count": 103,
   "metadata": {
    "ExecuteTime": {
     "end_time": "2024-10-16T13:35:33.013671Z",
     "start_time": "2024-10-16T13:35:20.476210Z"
    },
    "collapsed": false
   },
   "outputs": [
    {
     "name": "stdout",
     "output_type": "stream",
     "text": [
      "//139.124.148.123/seeg/Seeg_1998-2025/Seeg2025/sEEG_13_Fou_Ali/24.04/Sorcière/250424C-B_0017.vhdr\n",
      "250424C-B_0017.vhdr\n",
      "//139.124.148.123/seeg/Seeg_1998-2025/Seeg2025/sEEG_13_Fou_Ali/24.04/Piano/250424C-B_0005.vhdr\n",
      "250424C-B_0005.vhdr\n",
      "//139.124.148.123/seeg/Seeg_1998-2025/Seeg2025/sEEG_13_Fou_Ali/24.04/Piano/250424C-B_0007.vhdr\n",
      "250424C-B_0007.vhdr\n",
      "//139.124.148.123/seeg/Seeg_1998-2025/Seeg2025/sEEG_13_Fou_Ali/24.04/Piano/250424C-B_0009.vhdr\n",
      "250424C-B_0009.vhdr\n",
      "//139.124.148.123/seeg/Seeg_1998-2025/Seeg2025/sEEG_13_Fou_Ali/24.04/Piano/250424C-B_0011.vhdr\n",
      "250424C-B_0011.vhdr\n",
      "//139.124.148.123/seeg/Seeg_1998-2025/Seeg2025/sEEG_13_Fou_Ali/24.04/Piano/250424C-B_0014.vhdr\n",
      "250424C-B_0014.vhdr\n"
     ]
    }
   ],
   "source": [
    "sorciere_mne = vhdr_to_mne(sorciere_path)\n",
    "pianos_mne = vhdr_to_mne(piano_path)"
   ]
  },
  {
   "cell_type": "code",
   "execution_count": 104,
   "metadata": {
    "ExecuteTime": {
     "end_time": "2024-10-16T13:35:36.837385Z",
     "start_time": "2024-10-16T13:35:36.831708Z"
    },
    "collapsed": false
   },
   "outputs": [],
   "source": [
    "piano_path, file = os.path.split(piano_path[0])\n",
    "sorciere_path, file = os.path.split(sorciere_path[0])\n",
    "del file"
   ]
  },
  {
   "cell_type": "code",
   "execution_count": 105,
   "metadata": {
    "ExecuteTime": {
     "end_time": "2024-10-16T13:36:54.673852Z",
     "start_time": "2024-10-16T13:36:54.649866Z"
    },
    "collapsed": false
   },
   "outputs": [],
   "source": [
    "stim_piano = [file for file in os.listdir(piano_path+'/stim') if os.path.isfile(os.path.join(piano_path+'/stim', file)) and file.endswith('.mp3')]\n",
    "stim_sorcière = [file for file in os.listdir(sorciere_path+'/stim') if os.path.isfile(os.path.join(sorciere_path+'/stim', file)) and file.endswith('.mp3')]"
   ]
  },
  {
   "cell_type": "markdown",
   "metadata": {
    "collapsed": false
   },
   "source": [
    "## Montage bipolaire\n",
    "\n",
    "Do a bipolar montage en soustrayant l'activité de deux shaft consécutives /!\\ de le même electrode"
   ]
  },
  {
   "cell_type": "code",
   "execution_count": 130,
   "metadata": {},
   "outputs": [
    {
     "data": {
      "text/plain": [
       "['sorciere_2ms_trig.mp3']"
      ]
     },
     "execution_count": 130,
     "metadata": {},
     "output_type": "execute_result"
    }
   ],
   "source": [
    "stim_sorcière"
   ]
  },
  {
   "cell_type": "code",
   "execution_count": 106,
   "metadata": {
    "ExecuteTime": {
     "end_time": "2024-10-16T13:37:22.884002Z",
     "start_time": "2024-10-16T13:37:05.131432Z"
    },
    "collapsed": false
   },
   "outputs": [],
   "source": [
    "sorciere_bipol, channels_bipol = bipolar_montage(sorciere_mne[0], chans=True)\n",
    "sorciere_bipol = [sorciere_bipol]\n",
    "\n",
    "pianos_bipol = []\n",
    "for piano in pianos_mne :\n",
    "    pianos_bipol.append(bipolar_montage(piano, chans=False))"
   ]
  },
  {
   "cell_type": "code",
   "execution_count": 107,
   "metadata": {
    "ExecuteTime": {
     "end_time": "2024-10-16T13:37:35.081019Z",
     "start_time": "2024-10-16T13:37:34.514459Z"
    },
    "collapsed": false
   },
   "outputs": [],
   "source": [
    "#Trier les channels dans l'ordre alphabétique et numérique\n",
    "def custom_sort(value):\n",
    "    # Séparer la partie alphabétique et numérique\n",
    "    alpha_part = ''.join(filter(lambda x: x.isalpha() or x == \"'\", value))\n",
    "    num_part = int(''.join(filter(str.isdigit, value)))\n",
    "    return alpha_part, num_part\n",
    "\n",
    "sorted_channels_bipol = sorted(channels_bipol, key=custom_sort)\n",
    "\n",
    "# Sorciere\n",
    "sorciere_bipol_sorted = [np.empty_like(sorciere_bipol[0])]\n",
    "for i, channel_name in enumerate(sorted_channels_bipol):\n",
    "    channel_index = channels_bipol.index(channel_name)\n",
    "    sorciere_bipol_sorted[0][:, i] = sorciere_bipol[0][:, channel_index]\n",
    "\n",
    "# Pianos\n",
    "pianos_bipol_sorted = []\n",
    "for piano in pianos_bipol :\n",
    "    sorted_piano_bipol = np.empty_like(piano)\n",
    "    for i, channel_name in enumerate(sorted_channels_bipol):\n",
    "        channel_index = channels_bipol.index(channel_name)\n",
    "        sorted_piano_bipol[:, i] = piano[:, channel_index]\n",
    "    pianos_bipol_sorted.append(sorted_piano_bipol)\n",
    "\n",
    "del sorted_piano_bipol"
   ]
  },
  {
   "cell_type": "code",
   "execution_count": 108,
   "metadata": {
    "ExecuteTime": {
     "end_time": "2024-10-16T13:37:36.618203Z",
     "start_time": "2024-10-16T13:37:36.512954Z"
    },
    "collapsed": false
   },
   "outputs": [],
   "source": [
    "scipy.io.savemat(out_path+'/channels.mat', {'ch':np.array(sorted_channels_bipol)})"
   ]
  },
  {
   "cell_type": "code",
   "execution_count": 109,
   "metadata": {},
   "outputs": [],
   "source": [
    "import mne\n",
    "from pydub import AudioSegment\n",
    "from collections import Counter\n",
    "import matplotlib.pyplot as plt\n",
    "from scipy.signal import correlate\n",
    "\n",
    "def align_origin(raw_fif, raw_array, stim_dir) :\n",
    "  stim_name = os.path.basename(stim_dir)\n",
    "\n",
    "  #load .mp3\n",
    "  aud = AudioSegment.from_file(stim_dir, format=\"mp3\")\n",
    "  fs_stim = aud.frame_rate\n",
    "\n",
    "  # stereo format : audio/trigger\n",
    "  chans = aud.split_to_mono()\n",
    "  trigg = chans[1].get_array_of_samples()  # triggers\n",
    "\n",
    "  # binarized triggers\n",
    "  thrsh_exceed_idx = []\n",
    "  seuil = 3000\n",
    "  for idx, valeur in enumerate(trigg):\n",
    "    if valeur > seuil and trigg[idx - 1] < seuil and trigg[idx - 2] < seuil:\n",
    "      thrsh_exceed_idx.append(idx)\n",
    "\n",
    "  trigg_stim = np.array(thrsh_exceed_idx)\n",
    "  trigg_stim = trigg_stim / fs_stim\n",
    "\n",
    "  # load data\n",
    "  fs_data = raw_fif.info['sfreq']\n",
    "\n",
    "  # find events\n",
    "  orig_events, events_dict = mne.events_from_annotations(raw_fif)\n",
    "  #take only trigg of interest\n",
    "  counter = Counter(orig_events[:, 2])\n",
    "  t_int = counter.most_common(1)[0][0]\n",
    "  trigg_data_samples = np.squeeze(orig_events[np.where(orig_events[:, 2] == t_int), 0])\n",
    "  #trigg_data_samples = trigg_data_samples[5:]\n",
    "  trigg_data_secondes = trigg_data_samples / fs_data\n",
    "\n",
    "  # plt.figure()\n",
    "  # plt.vlines(trigg_data_secondes, 0,1, label = \"trigg_data\")\n",
    "  # plt.vlines(trigg_stim, 1,2, color='orange', label = \"trigg_stim\")\n",
    "  # plt.xlim(0,10)\n",
    "  # plt.legend()\n",
    "  # plt.title(\"before alignement\")\n",
    "\n",
    "  print('data :', len(trigg_data_secondes))\n",
    "  print('stim :', len(trigg_stim))\n",
    "\n",
    "  i=0\n",
    "  max_iteration = 150\n",
    "  while True:\n",
    "    if len(trigg_data_secondes) == len(trigg_stim):\n",
    "      print('same numbre of trigger')\n",
    "      trigg_stim_zero = trigg_stim - trigg_stim[0]\n",
    "      trigg_data_zero = trigg_data_secondes - trigg_data_secondes[0]\n",
    "\n",
    "    elif len(trigg_data_secondes) < len(trigg_stim):\n",
    "      print('< number of trigger')\n",
    "      if i >= len(trigg_stim):  # Si i dépasse la taille de trigg_stim\n",
    "          print(f\"Stopping: i ({i}) exceeded trigg_stim size ({len(trigg_stim)})\")\n",
    "          break\n",
    "      trigg_stim_zero = trigg_stim - trigg_stim[i]\n",
    "      trigg_data_zero = trigg_data_secondes - trigg_data_secondes[0]\n",
    "\n",
    "    elif len(trigg_data_secondes) > len(trigg_stim):\n",
    "      print('> number of trigger')\n",
    "      if i >= len(trigg_data_secondes):  # Si i dépasse la taille de trigg_data_secondes\n",
    "          print(f\"Stopping: i ({i}) exceeded trigg_data_secondes size ({len(trigg_data_secondes)})\")\n",
    "          break\n",
    "      trigg_stim_zero = trigg_stim - trigg_stim[0]\n",
    "      trigg_data_zero = trigg_data_secondes - trigg_data_secondes[i]\n",
    "\n",
    "    # calcul delay between all triggs\n",
    "    matrice_differences = np.zeros((len(trigg_data_zero), len(trigg_stim_zero)))\n",
    "    for j in range(len(trigg_data_zero)):\n",
    "      for k in range(len(trigg_stim_zero)):\n",
    "        matrice_differences[j, k] = trigg_data_zero[j] - trigg_stim_zero[k]\n",
    "\n",
    "    # take only closest pairs of trigger\n",
    "    if len(trigg_data_zero) <= len(trigg_stim_zero):\n",
    "      trigg_stim_zero_syncr = []\n",
    "      for j in range(len(trigg_data_zero)):\n",
    "        idx_syncr = np.argmin(np.abs(matrice_differences[j, :]))\n",
    "        trigg_stim_zero_syncr.append(trigg_stim_zero[idx_syncr])\n",
    "      # calcul delay between closest pairs\n",
    "      matrice_differences_ = np.zeros((len(trigg_data_zero), len(trigg_stim_zero_syncr)))\n",
    "      for j in range(len(trigg_data_zero)):\n",
    "        for k in range(len(trigg_stim_zero_syncr)):\n",
    "          matrice_differences_[j, k] = trigg_data_zero[j] - trigg_stim_zero_syncr[k]\n",
    "      # calcul delay between closest pairs\n",
    "      matrice_differences_ = np.zeros((len(trigg_data_zero), len(trigg_stim_zero_syncr)))\n",
    "      for j in range(len(trigg_data_zero)):\n",
    "        for k in range(len(trigg_stim_zero_syncr)):\n",
    "          matrice_differences_[j, k] = trigg_data_zero[j] - trigg_stim_zero_syncr[k]\n",
    "\n",
    "    elif len(trigg_data_zero) > len(trigg_stim_zero):\n",
    "      trigg_data_zero_syncr = []\n",
    "      for j in range(len(trigg_stim_zero)):\n",
    "        idx_syncr = np.argmin(np.abs(matrice_differences[:, j]))\n",
    "        trigg_data_zero_syncr.append(trigg_data_zero[idx_syncr])\n",
    "      # calcul delay between closest pairs\n",
    "      matrice_differences_ = np.zeros((len(trigg_data_zero_syncr), len(trigg_stim_zero)))\n",
    "      for j in range(len(trigg_data_zero_syncr)):\n",
    "        for k in range(len(trigg_stim_zero)):\n",
    "          matrice_differences_[j, k] = trigg_data_zero_syncr[j] - trigg_stim_zero[k]\n",
    "      # calcul delay between closest pairs\n",
    "      matrice_differences_ = np.zeros((len(trigg_data_zero_syncr), len(trigg_stim_zero)))\n",
    "      for j in range(len(trigg_data_zero_syncr)):\n",
    "        for k in range(len(trigg_stim_zero)):\n",
    "          matrice_differences_[j, k] = trigg_data_zero_syncr[j] - trigg_stim_zero[k]\n",
    "\n",
    "    # mean delay\n",
    "    tmp = np.mean(np.diagonal(matrice_differences_))\n",
    "    print(np.abs(round(tmp, 4)))\n",
    "    if np.abs(round(tmp, 4)) > 0.005 :\n",
    "      i+=1\n",
    "      continue\n",
    "\n",
    "    else :\n",
    "      if i == 0 :\n",
    "        raw_array_ = raw_array[trigg_data_samples[0]:trigg_data_samples[-1],:]\n",
    "        # plt.figure()\n",
    "        # plt.vlines(trigg_data_zero, 0,1, label = \"trigg_data\")\n",
    "        # plt.vlines(trigg_stim_zero, 1,2, color='orange', label = \"trigg_stim\")\n",
    "        # plt.xlim(-1,10)\n",
    "        # plt.legend()\n",
    "        # plt.title(\"after alignement\")\n",
    "      else :\n",
    "        if len(trigg_data_secondes) < len(trigg_stim):\n",
    "          raw_array_ = raw_array[trigg_data_samples[0]:trigg_data_samples[-1],:]\n",
    "          zrs = int((trigg_stim[i]-trigg_stim[0])*fs_data)\n",
    "          add_zeros = np.zeros((zrs, raw_array_.shape[1]))\n",
    "          raw_array_ = np.concatenate((add_zeros, raw_array_), axis=0)\n",
    "\n",
    "        elif len(trigg_data_secondes) > len(trigg_stim):\n",
    "          raw_array_ = raw_array[trigg_data_samples[i]:trigg_data_samples[-1],:]\n",
    "      break\n",
    "\n",
    "  return raw_array_"
   ]
  },
  {
   "cell_type": "markdown",
   "metadata": {
    "collapsed": false
   },
   "source": [
    "## Align"
   ]
  },
  {
   "cell_type": "code",
   "execution_count": 110,
   "metadata": {
    "collapsed": false
   },
   "outputs": [
    {
     "name": "stdout",
     "output_type": "stream",
     "text": [
      "Used Annotations descriptions: ['Comment/?', 'Comment/D?but', 'Stimulus/S 128', 'Stimulus/S 192', 'Stimulus/S 200']\n",
      "data : 582\n",
      "stim : 585\n",
      "< number of trigger\n",
      "0.0008\n",
      "Used Annotations descriptions: ['Comment/?', 'Comment/D?but', 'Stimulus/S 192', 'Stimulus/S 200']\n",
      "data : 151\n",
      "stim : 152\n",
      "< number of trigger\n",
      "0.0006\n",
      "Used Annotations descriptions: ['Comment/?', 'Comment/D?but', 'Stimulus/S 192', 'Stimulus/S 200']\n",
      "data : 102\n",
      "stim : 103\n",
      "< number of trigger\n",
      "0.0007\n",
      "Used Annotations descriptions: ['Comment/?', 'Comment/D?but', 'Stimulus/S 128', 'Stimulus/S 192', 'Stimulus/S 200']\n",
      "data : 129\n",
      "stim : 130\n",
      "< number of trigger\n",
      "0.0001\n",
      "Used Annotations descriptions: ['Comment/?', 'Comment/D?but', 'Stimulus/S 128', 'Stimulus/S 192', 'Stimulus/S 200']\n",
      "data : 185\n",
      "stim : 187\n",
      "< number of trigger\n",
      "0.0001\n",
      "Used Annotations descriptions: ['Comment/?', 'Comment/D?but', 'Stimulus/S 200']\n",
      "data : 57\n",
      "stim : 59\n",
      "< number of trigger\n",
      "0.0009\n"
     ]
    }
   ],
   "source": [
    "%matplotlib qt\n",
    "sorciere_aligned = align_origin(raw_fif=sorciere_mne[0], raw_array=sorciere_bipol_sorted[0], stim_dir=os.path.join(sorciere_path,'stim', stim_sorcière[0]))\n",
    "\n",
    "pianos_aligned=[]\n",
    "for i in range(len(pianos_bipol_sorted)):\n",
    "    pianos_aligned.append(align_origin(raw_fif=pianos_mne[i], raw_array=pianos_bipol_sorted[i], stim_dir=os.path.join(piano_path,'stim', stim_piano[i])))"
   ]
  },
  {
   "cell_type": "markdown",
   "metadata": {
    "collapsed": false
   },
   "source": [
    "## Filtering 0.1-35Hz - Z-scoring - Downsampling"
   ]
  },
  {
   "cell_type": "code",
   "execution_count": 111,
   "metadata": {
    "ExecuteTime": {
     "end_time": "2024-05-30T14:13:33.152138Z",
     "start_time": "2024-05-30T14:12:21.783391Z"
    },
    "collapsed": false
   },
   "outputs": [
    {
     "name": "stdout",
     "output_type": "stream",
     "text": [
      "(77494, 163)\n",
      "(50934, 163)\n",
      "(65555, 163)\n",
      "(93117, 163)\n",
      "(27691, 163)\n"
     ]
    }
   ],
   "source": [
    "high_pass = 0.1\n",
    "low_pass = 35\n",
    "\n",
    "fs_data = sorciere_mne[0].info['sfreq']\n",
    "\n",
    "pianos_downsampled = []\n",
    "\n",
    "sorciere_ultimate = prepare_data(data= sorciere_aligned, picks=sorted_channels_bipol, high_pass=high_pass, low_pass=low_pass, fs_data=fs_data)\n",
    "for data in pianos_aligned :\n",
    "    print(data.shape)\n",
    "    pianos_downsampled.append(prepare_data(data=data, picks=sorted_channels_bipol, high_pass=high_pass, low_pass=low_pass, fs_data=fs_data))"
   ]
  },
  {
   "cell_type": "markdown",
   "metadata": {
    "collapsed": false
   },
   "source": [
    "## Concatenate Pianos & Load Pianos regressors"
   ]
  },
  {
   "cell_type": "code",
   "execution_count": 112,
   "metadata": {
    "ExecuteTime": {
     "end_time": "2024-05-30T14:13:33.818025Z",
     "start_time": "2024-05-30T14:13:33.152138Z"
    },
    "collapsed": false
   },
   "outputs": [],
   "source": [
    "# define and load concatenated data and regressors for piano\n",
    "pianos_ultimate, pianos_regs_all, pianos_regs_all_labels, fs = concatenation(pianos_downsampled, piano_path, stim_piano)"
   ]
  },
  {
   "cell_type": "markdown",
   "metadata": {
    "collapsed": false
   },
   "source": [
    "## Load Sorcière regressors"
   ]
  },
  {
   "cell_type": "code",
   "execution_count": 113,
   "metadata": {
    "ExecuteTime": {
     "end_time": "2024-05-30T14:13:34.203511Z",
     "start_time": "2024-05-30T14:13:33.818025Z"
    },
    "collapsed": false
   },
   "outputs": [],
   "source": [
    "sorciere_ultimate, sorciere_regs_all, sorciere_regs_all_label = load_sorciere_regressors(sorciere_path, sorciere_ultimate)"
   ]
  },
  {
   "cell_type": "code",
   "execution_count": 131,
   "metadata": {},
   "outputs": [
    {
     "data": {
      "text/plain": [
       "'//139.124.148.123/seeg/Seeg_1998-2025/Seeg2025/sEEG_13_Fou_Ali/24.04/Sorcière'"
      ]
     },
     "execution_count": 131,
     "metadata": {},
     "output_type": "execute_result"
    }
   ],
   "source": [
    "sorciere_path"
   ]
  },
  {
   "cell_type": "code",
   "execution_count": 114,
   "metadata": {},
   "outputs": [
    {
     "name": "stdout",
     "output_type": "stream",
     "text": [
      "Socière regressors labels:\n",
      "0: loudness\n",
      "1: brightness\n",
      "2: pitch\n",
      "3: periodicity\n",
      "4: roughness\n",
      "5: spectral_flux\n",
      "6: der_loudness\n",
      "7: der_brightness\n",
      "8: der_pitch\n",
      "9: der_periodicity\n",
      "10: der_roughness\n",
      "11: der_spectral_flux\n",
      "12: half_rectified_der_loudness\n",
      "13: half_rectified_der_brightness\n",
      "14: half_rectified_der_pitch\n",
      "15: half_rectified_der_periodicity\n",
      "16: half_rectified_der_roughness\n",
      "17: half_rectified_der_spectral_flux\n",
      "18: syllabe_onset\n",
      "19: onsets\n",
      "20: entropy\n",
      "21: surprise\n",
      "\n",
      "Pianos regressors labels:\n",
      "0: envelope\n",
      "1: der_envelope_hr\n",
      "2: onset\n",
      "3: surprise\n",
      "4: surprise_positive\n"
     ]
    }
   ],
   "source": [
    "print(\"Socière regressors labels:\")\n",
    "for idx, label in enumerate(sorciere_regs_all_label):\n",
    "    print(f\"{idx}: {label}\")\n",
    "\n",
    "print(\"\\nPianos regressors labels:\")\n",
    "for idx, label in enumerate(pianos_regs_all_labels):\n",
    "    print(f\"{idx}: {label}\")\n"
   ]
  },
  {
   "cell_type": "markdown",
   "metadata": {
    "collapsed": false
   },
   "source": [
    "## Define models"
   ]
  },
  {
   "cell_type": "code",
   "execution_count": 115,
   "metadata": {
    "ExecuteTime": {
     "end_time": "2024-05-30T14:13:34.235844Z",
     "start_time": "2024-05-30T14:13:34.203511Z"
    },
    "collapsed": false
   },
   "outputs": [],
   "source": [
    "X_sorc_full = np.squeeze(sorciere_regs_all)\n",
    "label_to_index = {label: idx for idx, label in enumerate(sorciere_regs_all_label)}\n",
    "\n",
    "acoustic_names = [\n",
    "    'loudness', 'brightness', 'periodicity',\n",
    "    'half_rectified_der_loudness', 'half_rectified_der_brightness', 'half_rectified_der_periodicity',\n",
    "    'syllabe_onset', 'onsets'\n",
    "]\n",
    "predictive_names = ['entropy','surprise']\n",
    "\n",
    "idx_acoustic = [label_to_index[n] for n in acoustic_names]\n",
    "idx_predictive = [label_to_index[n] for n in predictive_names]\n",
    "\n",
    "X_sorc_acoustic = X_sorc_full[:, idx_acoustic]\n",
    "X_sorc_predictive = X_sorc_full[:, idx_predictive]\n"
   ]
  },
  {
   "cell_type": "code",
   "execution_count": 116,
   "metadata": {},
   "outputs": [],
   "source": [
    "X_piano_full = np.squeeze(pianos_regs_all)\n",
    "label_to_index = {label: idx for idx, label in enumerate(pianos_regs_all_labels)}\n",
    "\n",
    "acoustic_names = ['envelope', 'der_envelope_hr', 'onset']\n",
    "predictive_names = ['surprise', 'surprise_positive']\n",
    "\n",
    "idx_acoustic = [label_to_index[n] for n in acoustic_names]\n",
    "idx_predictive = [label_to_index[n] for n in predictive_names]\n",
    "\n",
    "X_piano_acoustic = X_piano_full[:, idx_acoustic]\n",
    "X_piano_predictive = X_piano_full[:, idx_predictive]\n"
   ]
  },
  {
   "cell_type": "code",
   "execution_count": 117,
   "metadata": {},
   "outputs": [
    {
     "data": {
      "text/plain": [
       "'C:/Users/nadege/Desktop/camille/seeg/agnes/Fou_Ali/1000perm'"
      ]
     },
     "execution_count": 117,
     "metadata": {},
     "output_type": "execute_result"
    }
   ],
   "source": [
    "out_path"
   ]
  },
  {
   "cell_type": "markdown",
   "metadata": {
    "collapsed": false
   },
   "source": [
    "## TRF"
   ]
  },
  {
   "cell_type": "code",
   "execution_count": 118,
   "metadata": {},
   "outputs": [],
   "source": [
    "from scipy.stats import zscore\n",
    "import numpy as np\n",
    "\n",
    "N_PERMUT = 1000\n",
    "\n",
    "def resample_and_shuffle_predictors(X, fs_old, fs_new, n_samples, n_permut):\n",
    "    \"\"\"\n",
    "    Crée une matrice 3D contenant les versions réelles et permutées des régresseurs.\n",
    "    \n",
    "    Paramètres :\n",
    "        X : array (n_time, n_regressors)\n",
    "        fs_old : fréquence d'échantillonnage d'origine\n",
    "        fs_new : fréquence cible (souvent identique à fs_old)\n",
    "        n_samples : nombre d'échantillons cible (données EEG)\n",
    "        n_permut : nombre de permutations\n",
    "    \n",
    "    Retour :\n",
    "        X_resampled_shuffled : array (n_samples, n_regressors, n_permut+1)\n",
    "    \"\"\"\n",
    "\n",
    "    onset_seconds = np.argwhere(X[:, 0]) / fs_old\n",
    "    onset_sample = np.argwhere(X[:, 0])\n",
    "\n",
    "    X_resampled_shuffled = np.zeros((n_samples, X.shape[1], n_permut + 1))\n",
    "\n",
    "    for i in range(n_permut + 1):\n",
    "        X_iter = np.zeros((n_samples, X.shape[1]))\n",
    "        positions = np.round(onset_seconds * fs_new).astype(int).ravel()\n",
    "        X_iter[positions, 0] = 1\n",
    "\n",
    "        for k in range(1, X.shape[1]):\n",
    "            values = zscore(X[onset_sample, k].flatten())\n",
    "            if i == 0:\n",
    "                X_iter[positions, k] = values\n",
    "            else:\n",
    "                np.random.shuffle(values)\n",
    "                X_iter[positions, k] = values\n",
    "\n",
    "\n",
    "        X_resampled_shuffled[:, :, i] = X_iter\n",
    "\n",
    "    return X_resampled_shuffled\n"
   ]
  },
  {
   "cell_type": "code",
   "execution_count": 119,
   "metadata": {},
   "outputs": [
    {
     "name": "stdout",
     "output_type": "stream",
     "text": [
      "(57533, 2, 1001)\n",
      "(61177, 2, 1001)\n"
     ]
    }
   ],
   "source": [
    "Xp_sorc_predictive = resample_and_shuffle_predictors(\n",
    "    X=X_sorc_predictive,\n",
    "    fs_old=fs,\n",
    "    fs_new=fs,\n",
    "    n_samples=sorciere_ultimate.shape[0],\n",
    "    n_permut=N_PERMUT\n",
    ")\n",
    "\n",
    "Xp_piano_predictive = resample_and_shuffle_predictors(\n",
    "    X=X_piano_predictive,\n",
    "    fs_old=fs,\n",
    "    fs_new=fs,\n",
    "    n_samples=pianos_ultimate.shape[0],\n",
    "    n_permut=N_PERMUT\n",
    ")\n",
    "\n",
    "print(Xp_sorc_predictive.shape)\n",
    "print(Xp_piano_predictive.shape)"
   ]
  },
  {
   "cell_type": "code",
   "execution_count": 120,
   "metadata": {
    "ExecuteTime": {
     "end_time": "2024-05-30T14:13:34.250682Z",
     "start_time": "2024-05-30T14:13:34.235844Z"
    },
    "collapsed": false
   },
   "outputs": [],
   "source": [
    "from datetime import datetime\n",
    "\n",
    "start_at = datetime.now()"
   ]
  },
  {
   "cell_type": "code",
   "execution_count": 121,
   "metadata": {
    "ExecuteTime": {
     "end_time": "2024-05-30T14:13:34.260699Z",
     "start_time": "2024-05-30T14:13:34.250682Z"
    },
    "collapsed": false
   },
   "outputs": [
    {
     "name": "stderr",
     "output_type": "stream",
     "text": [
      "C:\\Users\\nadege\\AppData\\Local\\Temp\\ipykernel_15548\\2900734924.py:4: DeprecationWarning: Conversion of an array with ndim > 0 to a scalar is deprecated, and will error in future. Ensure you extract a single element from your array before performing this operation. (Deprecated NumPy 1.25.)\n",
      "  coefs_times = np.linspace(tw_trf[0], tw_trf[1], int(np.diff(tw_trf) * fs + 1))  #get TRF time-axis\n"
     ]
    }
   ],
   "source": [
    "n_folds = 5\n",
    "tw_trf = [-0.3, 0.7]  #in sec\n",
    "\n",
    "coefs_times = np.linspace(tw_trf[0], tw_trf[1], int(np.diff(tw_trf) * fs + 1))  #get TRF time-axis\n",
    "\n",
    "alphas = [0, 1e-4, 1e-2, 1, 1e2, 1e4]"
   ]
  },
  {
   "cell_type": "markdown",
   "metadata": {
    "collapsed": false
   },
   "source": [
    "### Sorcière : acoustic TRF"
   ]
  },
  {
   "cell_type": "code",
   "execution_count": 122,
   "metadata": {},
   "outputs": [
    {
     "name": "stderr",
     "output_type": "stream",
     "text": [
      "C:\\Users\\nadege\\AppData\\Local\\Temp\\ipykernel_15548\\2469255075.py:7: DeprecationWarning: Conversion of an array with ndim > 0 to a scalar is deprecated, and will error in future. Ensure you extract a single element from your array before performing this operation. (Deprecated NumPy 1.25.)\n",
      "  coefs_times = np.linspace(tw_trf[0], tw_trf[1], int(np.diff(tw_trf) * fs + 1))\n"
     ]
    },
    {
     "name": "stdout",
     "output_type": "stream",
     "text": [
      "✅ Modèle acoustique sans permutation terminé et sauvegardé.\n"
     ]
    }
   ],
   "source": [
    "from scipy.io import savemat\n",
    "from sklearn.preprocessing import scale\n",
    "import numpy as np\n",
    "import gc\n",
    "\n",
    "# Paramètres\n",
    "coefs_times = np.linspace(tw_trf[0], tw_trf[1], int(np.diff(tw_trf) * fs + 1))\n",
    "alphas = [0, 1e-4, 1e-2, 1, 1e2, 1e4]\n",
    "\n",
    "# Données : X = régressseurs acoustiques, Y = EEG\n",
    "X = X_sorc_acoustic\n",
    "Y = np.squeeze(sorciere_ultimate)\n",
    "\n",
    "# TRF\n",
    "trf = spyeeg.models.TRF.TRFEstimator(tmin=tw_trf[0], tmax=tw_trf[1], srate=fs, alpha=alphas, fit_domain = 'frequency')\n",
    "trf.xval_eval(X, Y, n_splits=5, fit_mode='direct', verbose=False)\n",
    "\n",
    "# Sélection des meilleurs alpha par canal\n",
    "best_alpha = trf.get_best_alpha()\n",
    "r2 = trf.scores[\n",
    "    np.arange(trf.scores.shape[0])[:, None],\n",
    "    np.arange(trf.scores.shape[1])[None, :],\n",
    "    best_alpha\n",
    "]\n",
    "r2_acoustic = np.mean(r2, axis=0)\n",
    "\n",
    "# Coefficients associés\n",
    "coef = trf.get_coef()\n",
    "trf_betas_acoustic = coef[\n",
    "    np.arange(coef.shape[0])[:, None, None],\n",
    "    np.arange(coef.shape[1])[None, :, None],\n",
    "    np.arange(coef.shape[2])[None, None, :],\n",
    "    best_alpha\n",
    "]\n",
    "\n",
    "# Sauvegarde\n",
    "savemat(out_path + '/sorciere_acoustic.mat', {\n",
    "    'r2': r2_acoustic,\n",
    "    'kernels': trf_betas_acoustic,\n",
    "    'channels': sorted_channels_bipol,\n",
    "    'fs': fs\n",
    "})\n",
    "\n",
    "gc.collect()\n",
    "print(\"✅ Modèle acoustique sans permutation terminé et sauvegardé.\")\n"
   ]
  },
  {
   "cell_type": "markdown",
   "metadata": {
    "collapsed": false
   },
   "source": [
    "### Sorcière : predictive TRF"
   ]
  },
  {
   "cell_type": "code",
   "execution_count": 123,
   "metadata": {},
   "outputs": [
    {
     "name": "stderr",
     "output_type": "stream",
     "text": [
      "[Parallel(n_jobs=4)]: Using backend LokyBackend with 4 concurrent workers.\n",
      "[Parallel(n_jobs=4)]: Done   5 tasks      | elapsed:   41.5s\n",
      "[Parallel(n_jobs=4)]: Done  10 tasks      | elapsed:  1.0min\n",
      "[Parallel(n_jobs=4)]: Done  17 tasks      | elapsed:  1.6min\n",
      "[Parallel(n_jobs=4)]: Done  24 tasks      | elapsed:  1.9min\n",
      "[Parallel(n_jobs=4)]: Done  33 tasks      | elapsed:  2.8min\n",
      "[Parallel(n_jobs=4)]: Done  42 tasks      | elapsed:  3.5min\n",
      "[Parallel(n_jobs=4)]: Done  53 tasks      | elapsed:  4.4min\n",
      "[Parallel(n_jobs=4)]: Done  64 tasks      | elapsed:  5.1min\n",
      "[Parallel(n_jobs=4)]: Done  77 tasks      | elapsed:  6.2min\n",
      "[Parallel(n_jobs=4)]: Done  90 tasks      | elapsed:  7.2min\n",
      "[Parallel(n_jobs=4)]: Done 105 tasks      | elapsed:  8.4min\n",
      "[Parallel(n_jobs=4)]: Done 120 tasks      | elapsed:  9.3min\n",
      "[Parallel(n_jobs=4)]: Done 137 tasks      | elapsed: 10.8min\n",
      "[Parallel(n_jobs=4)]: Done 154 tasks      | elapsed: 12.0min\n",
      "[Parallel(n_jobs=4)]: Done 173 tasks      | elapsed: 13.5min\n",
      "[Parallel(n_jobs=4)]: Done 192 tasks      | elapsed: 14.8min\n",
      "[Parallel(n_jobs=4)]: Done 213 tasks      | elapsed: 16.5min\n",
      "[Parallel(n_jobs=4)]: Done 234 tasks      | elapsed: 18.1min\n",
      "[Parallel(n_jobs=4)]: Done 257 tasks      | elapsed: 19.8min\n",
      "[Parallel(n_jobs=4)]: Done 280 tasks      | elapsed: 21.4min\n",
      "[Parallel(n_jobs=4)]: Done 305 tasks      | elapsed: 23.5min\n",
      "[Parallel(n_jobs=4)]: Done 330 tasks      | elapsed: 25.5min\n",
      "[Parallel(n_jobs=4)]: Done 357 tasks      | elapsed: 27.7min\n",
      "[Parallel(n_jobs=4)]: Done 384 tasks      | elapsed: 29.8min\n",
      "[Parallel(n_jobs=4)]: Done 413 tasks      | elapsed: 32.4min\n",
      "[Parallel(n_jobs=4)]: Done 442 tasks      | elapsed: 34.8min\n",
      "[Parallel(n_jobs=4)]: Done 473 tasks      | elapsed: 37.3min\n",
      "[Parallel(n_jobs=4)]: Done 504 tasks      | elapsed: 39.6min\n",
      "[Parallel(n_jobs=4)]: Done 537 tasks      | elapsed: 42.5min\n",
      "[Parallel(n_jobs=4)]: Done 570 tasks      | elapsed: 45.1min\n",
      "[Parallel(n_jobs=4)]: Done 605 tasks      | elapsed: 48.0min\n",
      "[Parallel(n_jobs=4)]: Done 640 tasks      | elapsed: 50.6min\n",
      "[Parallel(n_jobs=4)]: Done 677 tasks      | elapsed: 53.6min\n",
      "[Parallel(n_jobs=4)]: Done 714 tasks      | elapsed: 56.3min\n",
      "[Parallel(n_jobs=4)]: Done 753 tasks      | elapsed: 59.3min\n",
      "[Parallel(n_jobs=4)]: Done 792 tasks      | elapsed: 62.1min\n",
      "[Parallel(n_jobs=4)]: Done 833 tasks      | elapsed: 65.4min\n",
      "[Parallel(n_jobs=4)]: Done 874 tasks      | elapsed: 68.5min\n",
      "[Parallel(n_jobs=4)]: Done 917 tasks      | elapsed: 71.8min\n",
      "[Parallel(n_jobs=4)]: Done 960 tasks      | elapsed: 75.0min\n",
      "[Parallel(n_jobs=4)]: Done 1001 out of 1001 | elapsed: 78.2min finished\n"
     ]
    }
   ],
   "source": [
    "from joblib import Parallel, delayed\n",
    "\n",
    "# Création des X complets : (base + pred)\n",
    "X_sorc_all = [np.concatenate((X_sorc_acoustic, Xp_sorc_predictive[:, :, i]), axis=1) for i in range(Xp_sorc_predictive.shape[2])]\n",
    "feats = list(range(X_sorc_all[0].shape[1]))  # tous les colonnes\n",
    "\n",
    "# Fonction unitaire pour une permutation\n",
    "def run_trf(X_sel):\n",
    "    trf = spyeeg.models.TRF.TRFEstimator(tmin=tw_trf[0], tmax=tw_trf[1], srate=fs, alpha=alphas, fit_domain='frequency')\n",
    "    trf.xval_eval(X_sel, Y, n_splits=5, fit_mode='direct', verbose=False)\n",
    "    best_alpha = trf.get_best_alpha()\n",
    "\n",
    "    r2 = trf.scores[np.arange(trf.scores.shape[0])[:, None], np.arange(trf.scores.shape[1])[None, :], best_alpha]\n",
    "    r2_mean = np.mean(r2, axis=0)  # moyenne sur les splits\n",
    "\n",
    "    coef = trf.get_coef()\n",
    "    coef_selected = coef[np.arange(coef.shape[0])[:,None,None],\n",
    "                         np.arange(coef.shape[1])[None,:,None],\n",
    "                         np.arange(coef.shape[2])[None,None,:],\n",
    "                         best_alpha]  # shape (T, R, C)\n",
    "    \n",
    "    return r2_mean, coef_selected\n",
    "\n",
    "# TRF sur chaque X en parallèle\n",
    "results = Parallel(n_jobs=4, verbose=10)(\n",
    "    delayed(run_trf)(X_i[:, feats]) for X_i in X_sorc_all\n",
    ")\n",
    "\n",
    "# Récupération des R² et TRF\n",
    "r2_all = np.stack([r for r, _ in results], axis=1)  # (n_chan, n_perm+1)\n",
    "\n",
    "trf_betas = results[0][1]  # coeffs non permutés uniquement (i == 0)\n",
    "\n",
    "# Calcul des p-valeurs\n",
    "r2_real_sorciere = r2_all[:, 0]\n",
    "r2_perm_sorciere = r2_all[:, 1:]\n",
    "pval_sorciere = np.mean(r2_perm_sorciere >= r2_real_sorciere[:, None], axis=1)\n",
    "\n",
    "# Sauvegarde en .mat\n",
    "scipy.io.savemat(out_path + '/sorciere_predictive.mat', {\n",
    "    'r2_real': r2_real_sorciere,\n",
    "    'r2_perm': r2_perm_sorciere,\n",
    "    'pval': pval_sorciere,\n",
    "    'kernels': trf_betas,\n",
    "    'channels': sorted_channels_bipol,\n",
    "    'fs': fs\n",
    "})\n"
   ]
  },
  {
   "cell_type": "markdown",
   "metadata": {
    "collapsed": false
   },
   "source": [
    "### Pianos : acoustic TRF"
   ]
  },
  {
   "cell_type": "code",
   "execution_count": 129,
   "metadata": {},
   "outputs": [
    {
     "data": {
      "text/plain": [
       "100"
      ]
     },
     "execution_count": 129,
     "metadata": {},
     "output_type": "execute_result"
    }
   ],
   "source": [
    "fs"
   ]
  },
  {
   "cell_type": "code",
   "execution_count": 124,
   "metadata": {
    "ExecuteTime": {
     "end_time": "2024-05-30T14:36:29.386895Z",
     "start_time": "2024-05-30T14:35:32.810139Z"
    },
    "collapsed": false
   },
   "outputs": [],
   "source": [
    "# from scipy.io import savemat\n",
    "# from sklearn.preprocessing import scale\n",
    "# import numpy as np\n",
    "# import gc\n",
    "\n",
    "# # Paramètres\n",
    "# tw_trf = [-0.3, 0.7]  # en secondes\n",
    "# coefs_times = np.linspace(tw_trf[0], tw_trf[1], int(np.diff(tw_trf) * fs + 1))\n",
    "# alphas = [0, 1e-4, 1e-2, 1, 1e2, 1e4]\n",
    "\n",
    "# # Données : X = régressseurs acoustiques, Y = EEG\n",
    "# X = X_piano_acoustic\n",
    "# Y = np.squeeze(pianos_ultimate)\n",
    "\n",
    "# # TRF\n",
    "# trf = spyeeg.models.TRF.TRFEstimator(tmin=tw_trf[0], tmax=tw_trf[1], srate=fs, alpha=alphas, fit_domain = 'frequency')\n",
    "# trf.xval_eval(X, Y, n_splits=5, fit_mode='direct', verbose=False)\n",
    "\n",
    "# # Sélection des meilleurs alpha par canal\n",
    "# best_alpha = trf.get_best_alpha()\n",
    "# r2 = trf.scores[\n",
    "#     np.arange(trf.scores.shape[0])[:, None],\n",
    "#     np.arange(trf.scores.shape[1])[None, :],\n",
    "#     best_alpha\n",
    "# ]\n",
    "# r2_acoustic = np.mean(r2, axis=0)\n",
    "\n",
    "# # Coefficients associés\n",
    "# coef = trf.get_coef()\n",
    "# trf_betas_acoustic = coef[\n",
    "#     np.arange(coef.shape[0])[:, None, None],\n",
    "#     np.arange(coef.shape[1])[None, :, None],\n",
    "#     np.arange(coef.shape[2])[None, None, :],\n",
    "#     best_alpha\n",
    "# ]\n",
    "\n",
    "# # Sauvegarde\n",
    "# savemat(out_path + '/pianos_acoustic.mat', {\n",
    "#     'r2': r2_acoustic,\n",
    "#     'kernels': trf_betas_acoustic,\n",
    "#     'channels': sorted_channels_bipol,\n",
    "#     'fs': fs\n",
    "# })\n",
    "\n",
    "# gc.collect()\n",
    "# print(\"✅ Modèle acoustique sans permutation terminé et sauvegardé.\")\n"
   ]
  },
  {
   "cell_type": "markdown",
   "metadata": {
    "collapsed": false
   },
   "source": [
    "### Pianos : predictive TRF"
   ]
  },
  {
   "cell_type": "code",
   "execution_count": 125,
   "metadata": {
    "ExecuteTime": {
     "end_time": "2024-05-30T14:39:30.344581Z",
     "start_time": "2024-05-30T14:36:29.386895Z"
    },
    "collapsed": false
   },
   "outputs": [],
   "source": [
    "# from joblib import Parallel, delayed\n",
    "\n",
    "# # Création des X complets : (base + pred)\n",
    "# X_piano_all = [np.concatenate((X_piano_acoustic, Xp_piano_predictive[:, :, i]), axis=1) for i in range(Xp_piano_predictive.shape[2])]\n",
    "# feats = list(range(X_piano_all[0].shape[1]))  # tous les colonnes\n",
    "\n",
    "# # Fonction unitaire pour une permutation\n",
    "# def run_trf(X_sel):\n",
    "#     trf = spyeeg.models.TRF.TRFEstimator(tmin=tw_trf[0], tmax=tw_trf[1], srate=fs, alpha=alphas, fit_domain='frequency')\n",
    "#     trf.xval_eval(X_sel, Y, n_splits=5, fit_mode='direct', verbose=False)\n",
    "#     best_alpha = trf.get_best_alpha()\n",
    "\n",
    "#     r2 = trf.scores[np.arange(trf.scores.shape[0])[:, None], np.arange(trf.scores.shape[1])[None, :], best_alpha]\n",
    "#     r2_mean = np.mean(r2, axis=0)  # moyenne sur les splits\n",
    "\n",
    "#     coef = trf.get_coef()\n",
    "#     coef_selected = coef[np.arange(coef.shape[0])[:,None,None],\n",
    "#                          np.arange(coef.shape[1])[None,:,None],\n",
    "#                          np.arange(coef.shape[2])[None,None,:],\n",
    "#                          best_alpha]  # shape (T, R, C)\n",
    "    \n",
    "#     return r2_mean, coef_selected\n",
    "\n",
    "# # TRF sur chaque X en parallèle\n",
    "# results = Parallel(n_jobs=4, verbose=10)(\n",
    "#     delayed(run_trf)(X_i[:, feats]) for X_i in X_piano_all\n",
    "# )\n",
    "\n",
    "# # Récupération des R² et TRF\n",
    "# r2_all = np.stack([r for r, _ in results], axis=1)  # (n_chan, n_perm+1)\n",
    "\n",
    "# trf_betas = results[0][1]  # coeffs non permutés uniquement (i == 0)\n",
    "\n",
    "# # Calcul des p-valeurs\n",
    "# r2_real_piano = r2_all[:, 0]\n",
    "# r2_perm_piano = r2_all[:, 1:]\n",
    "# pval_piano = np.mean(r2_perm_piano >= r2_real_piano[:, None], axis=1)\n",
    "\n",
    "# # Sauvegarde en .mat\n",
    "# scipy.io.savemat(out_path + '/pianos_predictive.mat', {\n",
    "#     'r2_real': r2_real_piano,\n",
    "#     'r2_perm': r2_perm_piano,\n",
    "#     'pval': pval_piano,\n",
    "#     'kernels': trf_betas,\n",
    "#     'channels': sorted_channels_bipol,\n",
    "#     'fs': fs\n",
    "# })\n"
   ]
  },
  {
   "cell_type": "markdown",
   "metadata": {},
   "source": [
    "### Generate a .txt file with scores "
   ]
  },
  {
   "cell_type": "code",
   "execution_count": 126,
   "metadata": {
    "ExecuteTime": {
     "end_time": "2024-05-30T14:39:30.369505Z",
     "start_time": "2024-05-30T14:39:30.344581Z"
    }
   },
   "outputs": [],
   "source": [
    "# # Create the full path to the file\n",
    "# filename = os.path.join(out_path, 'scores.txt')\n",
    "\n",
    "# with open(filename, 'w') as file:\n",
    "#     # Write the header with aligned columns\n",
    "#     file.write(f'{\"Channel\":<10}{\"Speech Acoustic (in %)\":<25}{\"Speech Predictif (in %)\":<30}{\"Music Acoustic (in %)\":<30}{\"Music Predictif (in %)\":<30}\\n')\n",
    "\n",
    "#     # Write data to the file\n",
    "#     for chan, scr1, scr2, scr3, scr4 in zip(sorted_channels_bipol, sorciere_regs_acoustic_scores_cv, sorciere_regs_predictive_scores_cv, pianos_regs_acoustic_scores_cv, pianos_regs_predictive_scores_cv):\n",
    "#         file.write(f'{chan:<15}{round(scr1*100,2):<30}{round(scr2*100,2):<25}{round(scr3*100,2):<30}{round(scr4*100,2):<20}\\n')\n"
   ]
  },
  {
   "cell_type": "markdown",
   "metadata": {
    "collapsed": false
   },
   "source": [
    "## Plot results"
   ]
  },
  {
   "cell_type": "markdown",
   "metadata": {
    "collapsed": false
   },
   "source": [
    "### R2, PCI & ERP - with matlab"
   ]
  },
  {
   "cell_type": "code",
   "execution_count": 128,
   "metadata": {
    "ExecuteTime": {
     "end_time": "2024-05-30T17:38:07.616302Z",
     "start_time": "2024-05-30T14:39:30.369505Z"
    },
    "collapsed": false
   },
   "outputs": [
    {
     "name": "stdout",
     "output_type": "stream",
     "text": [
      "Start at : 2025-07-04 15:19:29.061707\n",
      "End at: 2025-07-04 15:19:55.104730\n"
     ]
    }
   ],
   "source": [
    "import matlab.engine\n",
    "from datetime import datetime\n",
    "out_path = r\"C:/Users/nadege/Desktop/camille/seeg/agnes/Fou_Ali/1000perm\"\n",
    "print('Start at :', datetime.now())\n",
    "\n",
    "\n",
    "# Démarrer le moteur MATLAB\n",
    "eng = matlab.engine.start_matlab()\n",
    "# run MATLAB script\n",
    "eng.eval(f\"out_path = '{out_path}'; run('C:/Users/nadege/Desktop/camille/seeg/agnes/sEEG_rsqr_pci.m')\", nargout=0)\n",
    "#eng.eval(f\"out_path = '{out_path}'; run('//dynaserv/home/trebuchon/Desktop/Python_code/sEEG_rsqr_pci.m')\", nargout=0)\n",
    "\n",
    "\n",
    "\n",
    "print(\"End at:\", datetime.now())"
   ]
  }
 ],
 "metadata": {
  "kernelspec": {
   "display_name": "mon_env_mne_2",
   "language": "python",
   "name": "python3"
  },
  "language_info": {
   "codemirror_mode": {
    "name": "ipython",
    "version": 3
   },
   "file_extension": ".py",
   "mimetype": "text/x-python",
   "name": "python",
   "nbconvert_exporter": "python",
   "pygments_lexer": "ipython3",
   "version": "3.10.9"
  }
 },
 "nbformat": 4,
 "nbformat_minor": 0
}
