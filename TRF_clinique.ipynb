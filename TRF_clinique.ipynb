{
 "cells": [
  {
   "cell_type": "code",
   "execution_count": 1,
   "metadata": {
    "ExecuteTime": {
     "end_time": "2024-10-16T13:21:54.937699Z",
     "start_time": "2024-10-16T13:21:46.330649Z"
    },
    "collapsed": false
   },
   "outputs": [],
   "source": [
    "import tkinter as tk\n",
    "from tkinter import filedialog\n",
    "\n",
    "import scipy.io\n",
    "import os\n",
    "import numpy as np\n",
    "\n",
    "import gc\n",
    "\n",
    "from funcs import vhdr_to_mne, bipolar_montage, align, prepare_data, concatenation,load_sorciere_regressors, model_definition, trf_spyeeg"
   ]
  },
  {
   "cell_type": "markdown",
   "metadata": {
    "collapsed": false
   },
   "source": [
    "## paths"
   ]
  },
  {
   "cell_type": "code",
   "execution_count": 2,
   "metadata": {
    "ExecuteTime": {
     "end_time": "2024-10-16T13:23:18.790396Z",
     "start_time": "2024-10-16T13:22:48.627529Z"
    },
    "collapsed": false
   },
   "outputs": [
    {
     "name": "stdout",
     "output_type": "stream",
     "text": [
      "Fichiers sélectionnés:\n",
      "//139.124.148.123/seeg/Seeg_1998-2025/Seeg2025/sEEG_12_Tor_Eli/11.04/Sorcière/250411C-A_0007.vhdr\n",
      "Chemin vers le dossier de sortie sélectionné: C:/Users/nadege/Desktop/camille/seeg/agnes/pres\n"
     ]
    }
   ],
   "source": [
    "# first 'select a folder direction 'patient espace''\n",
    "# then, select the sorciere file in the NAS (sorcière = file.vhdr)\n",
    "# then, select the pianos files in the NAS (pianos = [file.vhdr, file.vhdr..]\n",
    "# Fonction pour sélectionner le chemin vers le dossier \"sorciere\"\n",
    "def select_sorciere_path():\n",
    "    global sorciere_path\n",
    "    sorciere_path = filedialog.askopenfilenames()\n",
    "    if sorciere_path:\n",
    "        print(\"Fichiers sélectionnés:\")\n",
    "        for file in sorciere_path:\n",
    "            print(file)\n",
    "\n",
    "\n",
    "# Fonction pour sélectionner le chemin vers le dossier de sortie\n",
    "def select_out_path():\n",
    "    global out_path\n",
    "    out_path = filedialog.askdirectory()\n",
    "    if out_path:\n",
    "        print(\"Chemin vers le dossier de sortie sélectionné:\", out_path)\n",
    "\n",
    "# Création de la fenêtre principale\n",
    "root = tk.Tk()\n",
    "root.title(\"Ouvrir\")\n",
    "\n",
    "# Déclaration des variables pour stocker les chemins sélectionnés\n",
    "sorciere_path = \"\"\n",
    "piano_path = \"\"\n",
    "out_path = \"\"\n",
    "\n",
    "# Boutons pour sélectionner les chemins vers les dossiers\n",
    "sorciere_button = tk.Button(root, text=\"Select Sorcière *.vhdr (on NAS)\", command=select_sorciere_path)\n",
    "sorciere_button.pack(pady=5)\n",
    "\n",
    "out_button = tk.Button(root, text=\"Select patient workspace (locally)\", command=select_out_path)\n",
    "out_button.pack(pady=5)\n",
    "\n",
    "root.mainloop()\n",
    "\n",
    "# Vous pouvez maintenant utiliser les variables sorciere_path, piano_path et out_path dans votre application.\n"
   ]
  },
  {
   "cell_type": "markdown",
   "metadata": {
    "collapsed": false
   },
   "source": [
    "## Import .vhdr to mne"
   ]
  },
  {
   "cell_type": "code",
   "execution_count": null,
   "metadata": {
    "ExecuteTime": {
     "end_time": "2024-10-16T13:35:33.013671Z",
     "start_time": "2024-10-16T13:35:20.476210Z"
    },
    "collapsed": false
   },
   "outputs": [
    {
     "name": "stdout",
     "output_type": "stream",
     "text": [
      "/\n",
      "\n",
      "/\n",
      "\n",
      "1\n",
      "1\n",
      "3\n",
      "3\n",
      "9\n",
      "9\n",
      ".\n",
      ".\n",
      "1\n",
      "1\n",
      "2\n",
      "2\n",
      "4\n",
      "4\n",
      ".\n",
      ".\n",
      "1\n",
      "1\n",
      "4\n",
      "4\n",
      "8\n",
      "8\n",
      ".\n",
      ".\n",
      "1\n",
      "1\n",
      "2\n",
      "2\n",
      "3\n",
      "3\n",
      "/\n",
      "\n",
      "s\n",
      "s\n",
      "e\n",
      "e\n",
      "e\n",
      "e\n",
      "g\n",
      "g\n",
      "/\n",
      "\n",
      "S\n",
      "S\n",
      "e\n",
      "e\n",
      "e\n",
      "e\n",
      "g\n",
      "g\n",
      "_\n",
      "_\n",
      "1\n",
      "1\n",
      "9\n",
      "9\n",
      "9\n",
      "9\n",
      "8\n",
      "8\n",
      "-\n",
      "-\n",
      "2\n",
      "2\n",
      "0\n",
      "0\n",
      "2\n",
      "2\n",
      "5\n",
      "5\n",
      "/\n",
      "\n",
      "S\n",
      "S\n",
      "e\n",
      "e\n",
      "e\n",
      "e\n",
      "g\n",
      "g\n",
      "2\n",
      "2\n",
      "0\n",
      "0\n",
      "2\n",
      "2\n",
      "5\n",
      "5\n",
      "/\n",
      "\n",
      "s\n",
      "s\n",
      "E\n",
      "E\n",
      "E\n",
      "E\n",
      "G\n",
      "G\n",
      "_\n",
      "_\n",
      "1\n",
      "1\n",
      "2\n",
      "2\n",
      "_\n",
      "_\n",
      "T\n",
      "T\n",
      "o\n",
      "o\n",
      "r\n",
      "r\n",
      "_\n",
      "_\n",
      "E\n",
      "E\n",
      "l\n",
      "l\n",
      "i\n",
      "i\n",
      "/\n",
      "\n",
      "1\n",
      "1\n",
      "1\n",
      "1\n",
      ".\n",
      ".\n",
      "0\n",
      "0\n",
      "4\n",
      "4\n",
      "/\n",
      "\n",
      "S\n",
      "S\n",
      "o\n",
      "o\n",
      "r\n",
      "r\n",
      "c\n",
      "c\n",
      "i\n",
      "i\n",
      "è\n",
      "è\n",
      "r\n",
      "r\n",
      "e\n",
      "e\n"
     ]
    },
    {
     "ename": "AttributeError",
     "evalue": "'list' object has no attribute 'get_montage'",
     "output_type": "error",
     "traceback": [
      "\u001b[1;31m---------------------------------------------------------------------------\u001b[0m",
      "\u001b[1;31mAttributeError\u001b[0m                            Traceback (most recent call last)",
      "Cell \u001b[1;32mIn[28], line 2\u001b[0m\n\u001b[0;32m      1\u001b[0m sorciere_mne \u001b[38;5;241m=\u001b[39m vhdr_to_mne(sorciere_path)\n\u001b[1;32m----> 2\u001b[0m montage \u001b[38;5;241m=\u001b[39m \u001b[43msorciere_mne\u001b[49m\u001b[38;5;241;43m.\u001b[39;49m\u001b[43mget_montage\u001b[49m()\n\u001b[0;32m      3\u001b[0m loc \u001b[38;5;241m=\u001b[39m (\u001b[38;5;241m1e3\u001b[39m \u001b[38;5;241m*\u001b[39m np\u001b[38;5;241m.\u001b[39mstack([coord \u001b[38;5;28;01mfor\u001b[39;00m _,coord \u001b[38;5;129;01min\u001b[39;00m montage\u001b[38;5;241m.\u001b[39mget_positions()[\u001b[38;5;124m'\u001b[39m\u001b[38;5;124mch_pos\u001b[39m\u001b[38;5;124m'\u001b[39m]\u001b[38;5;241m.\u001b[39mitems()]))\u001b[38;5;241m.\u001b[39mT\n",
      "\u001b[1;31mAttributeError\u001b[0m: 'list' object has no attribute 'get_montage'"
     ]
    }
   ],
   "source": [
    "sorciere_mne = vhdr_to_mne(sorciere_path)"
   ]
  },
  {
   "cell_type": "code",
   "execution_count": null,
   "metadata": {
    "ExecuteTime": {
     "end_time": "2024-10-16T13:35:36.837385Z",
     "start_time": "2024-10-16T13:35:36.831708Z"
    },
    "collapsed": false
   },
   "outputs": [],
   "source": [
    "sorciere_path, file = os.path.split(sorciere_path[0])\n",
    "del file"
   ]
  },
  {
   "cell_type": "code",
   "execution_count": 5,
   "metadata": {
    "ExecuteTime": {
     "end_time": "2024-10-16T13:36:54.673852Z",
     "start_time": "2024-10-16T13:36:54.649866Z"
    },
    "collapsed": false
   },
   "outputs": [],
   "source": [
    "stim_sorcière = [file for file in os.listdir(sorciere_path+'/stim') if os.path.isfile(os.path.join(sorciere_path+'/stim', file)) and file.endswith('.mp3')]"
   ]
  },
  {
   "cell_type": "code",
   "execution_count": 6,
   "metadata": {
    "collapsed": false
   },
   "outputs": [
    {
     "data": {
      "text/plain": [
       "['sorciere_2ms_trig.mp3']"
      ]
     },
     "execution_count": 6,
     "metadata": {},
     "output_type": "execute_result"
    }
   ],
   "source": [
    "stim_sorcière"
   ]
  },
  {
   "cell_type": "markdown",
   "metadata": {
    "collapsed": false
   },
   "source": [
    "## Montage bipolaire\n",
    "\n",
    "Do a bipolar montage en soustrayant l'activité de deux shaft consécutives /!\\ de le même electrode"
   ]
  },
  {
   "cell_type": "code",
   "execution_count": 7,
   "metadata": {
    "ExecuteTime": {
     "end_time": "2024-10-16T13:37:22.884002Z",
     "start_time": "2024-10-16T13:37:05.131432Z"
    },
    "collapsed": false
   },
   "outputs": [],
   "source": [
    "sorciere_bipol, channels_bipol = bipolar_montage(sorciere_mne[0], chans=True)\n",
    "sorciere_bipol = [sorciere_bipol]\n"
   ]
  },
  {
   "cell_type": "code",
   "execution_count": null,
   "metadata": {
    "ExecuteTime": {
     "end_time": "2024-10-16T13:37:35.081019Z",
     "start_time": "2024-10-16T13:37:34.514459Z"
    },
    "collapsed": false
   },
   "outputs": [],
   "source": [
    "#Trier les channels dans l'ordre alphabétique et numérique\n",
    "def custom_sort(value):\n",
    "    # Séparer la partie alphabétique et numérique\n",
    "    alpha_part = ''.join(filter(lambda x: x.isalpha() or x == \"'\", value))\n",
    "    num_part = int(''.join(filter(str.isdigit, value)))\n",
    "    return alpha_part, num_part\n",
    "\n",
    "sorted_channels_bipol = sorted(channels_bipol, key=custom_sort)\n",
    "\n",
    "# Sorciere\n",
    "sorciere_bipol_sorted = [np.empty_like(sorciere_bipol[0])]\n",
    "for i, channel_name in enumerate(sorted_channels_bipol):\n",
    "    channel_index = channels_bipol.index(channel_name)\n",
    "    sorciere_bipol_sorted[0][:, i] = sorciere_bipol[0][:, channel_index]\n"
   ]
  },
  {
   "cell_type": "code",
   "execution_count": 35,
   "metadata": {
    "ExecuteTime": {
     "end_time": "2024-10-16T13:37:36.618203Z",
     "start_time": "2024-10-16T13:37:36.512954Z"
    },
    "collapsed": false
   },
   "outputs": [],
   "source": [
    "scipy.io.savemat(out_path+'/channels.mat', {'ch':np.array(sorted_channels_bipol)})"
   ]
  },
  {
   "cell_type": "code",
   "execution_count": 9,
   "metadata": {},
   "outputs": [],
   "source": [
    "import mne\n",
    "from pydub import AudioSegment\n",
    "from collections import Counter\n",
    "import matplotlib.pyplot as plt\n",
    "from scipy.signal import correlate\n",
    "\n",
    "def align_origin(raw_fif, raw_array, stim_dir) :\n",
    "  stim_name = os.path.basename(stim_dir)\n",
    "\n",
    "  #load .mp3\n",
    "  aud = AudioSegment.from_file(stim_dir, format=\"mp3\")\n",
    "  fs_stim = aud.frame_rate\n",
    "\n",
    "  # stereo format : audio/trigger\n",
    "  chans = aud.split_to_mono()\n",
    "  trigg = chans[1].get_array_of_samples()  # triggers\n",
    "\n",
    "  # binarized triggers\n",
    "  thrsh_exceed_idx = []\n",
    "  seuil = 3000\n",
    "  for idx, valeur in enumerate(trigg):\n",
    "    if valeur > seuil and trigg[idx - 1] < seuil and trigg[idx - 2] < seuil:\n",
    "      thrsh_exceed_idx.append(idx)\n",
    "\n",
    "  trigg_stim = np.array(thrsh_exceed_idx)\n",
    "  trigg_stim = trigg_stim / fs_stim\n",
    "\n",
    "  # load data\n",
    "  fs_data = raw_fif.info['sfreq']\n",
    "\n",
    "  # find events\n",
    "  orig_events, events_dict = mne.events_from_annotations(raw_fif)\n",
    "  #take only trigg of interest\n",
    "  counter = Counter(orig_events[:, 2])\n",
    "  t_int = counter.most_common(1)[0][0]\n",
    "  trigg_data_samples = np.squeeze(orig_events[np.where(orig_events[:, 2] == t_int), 0])\n",
    "  #trigg_data_samples = trigg_data_samples[5:]\n",
    "  trigg_data_secondes = trigg_data_samples / fs_data\n",
    "\n",
    "  plt.figure()\n",
    "  plt.vlines(trigg_data_secondes, 0,1, label = \"trigg_data\")\n",
    "  plt.vlines(trigg_stim, 1,2, color='orange', label = \"trigg_stim\")\n",
    "  plt.xlim(0,10)\n",
    "  plt.legend()\n",
    "  plt.title(\"before alignement\")\n",
    "\n",
    "  print('data :', len(trigg_data_secondes))\n",
    "  print('stim :', len(trigg_stim))\n",
    "\n",
    "  i=0\n",
    "  max_iteration = 150\n",
    "  while True:\n",
    "    if len(trigg_data_secondes) == len(trigg_stim):\n",
    "      print('same numbre of trigger')\n",
    "      trigg_stim_zero = trigg_stim - trigg_stim[0]\n",
    "      trigg_data_zero = trigg_data_secondes - trigg_data_secondes[0]\n",
    "\n",
    "    elif len(trigg_data_secondes) < len(trigg_stim):\n",
    "      print('< number of trigger')\n",
    "      if i >= len(trigg_stim):  # Si i dépasse la taille de trigg_stim\n",
    "          print(f\"Stopping: i ({i}) exceeded trigg_stim size ({len(trigg_stim)})\")\n",
    "          break\n",
    "      trigg_stim_zero = trigg_stim - trigg_stim[i]\n",
    "      trigg_data_zero = trigg_data_secondes - trigg_data_secondes[0]\n",
    "\n",
    "    elif len(trigg_data_secondes) > len(trigg_stim):\n",
    "      print('> number of trigger')\n",
    "      if i >= len(trigg_data_secondes):  # Si i dépasse la taille de trigg_data_secondes\n",
    "          print(f\"Stopping: i ({i}) exceeded trigg_data_secondes size ({len(trigg_data_secondes)})\")\n",
    "          break\n",
    "      trigg_stim_zero = trigg_stim - trigg_stim[0]\n",
    "      trigg_data_zero = trigg_data_secondes - trigg_data_secondes[i]\n",
    "\n",
    "    # calcul delay between all triggs\n",
    "    matrice_differences = np.zeros((len(trigg_data_zero), len(trigg_stim_zero)))\n",
    "    for j in range(len(trigg_data_zero)):\n",
    "      for k in range(len(trigg_stim_zero)):\n",
    "        matrice_differences[j, k] = trigg_data_zero[j] - trigg_stim_zero[k]\n",
    "\n",
    "    # take only closest pairs of trigger\n",
    "    if len(trigg_data_zero) <= len(trigg_stim_zero):\n",
    "      trigg_stim_zero_syncr = []\n",
    "      for j in range(len(trigg_data_zero)):\n",
    "        idx_syncr = np.argmin(np.abs(matrice_differences[j, :]))\n",
    "        trigg_stim_zero_syncr.append(trigg_stim_zero[idx_syncr])\n",
    "      # calcul delay between closest pairs\n",
    "      matrice_differences_ = np.zeros((len(trigg_data_zero), len(trigg_stim_zero_syncr)))\n",
    "      for j in range(len(trigg_data_zero)):\n",
    "        for k in range(len(trigg_stim_zero_syncr)):\n",
    "          matrice_differences_[j, k] = trigg_data_zero[j] - trigg_stim_zero_syncr[k]\n",
    "      # calcul delay between closest pairs\n",
    "      matrice_differences_ = np.zeros((len(trigg_data_zero), len(trigg_stim_zero_syncr)))\n",
    "      for j in range(len(trigg_data_zero)):\n",
    "        for k in range(len(trigg_stim_zero_syncr)):\n",
    "          matrice_differences_[j, k] = trigg_data_zero[j] - trigg_stim_zero_syncr[k]\n",
    "\n",
    "    elif len(trigg_data_zero) > len(trigg_stim_zero):\n",
    "      trigg_data_zero_syncr = []\n",
    "      for j in range(len(trigg_stim_zero)):\n",
    "        idx_syncr = np.argmin(np.abs(matrice_differences[:, j]))\n",
    "        trigg_data_zero_syncr.append(trigg_data_zero[idx_syncr])\n",
    "      # calcul delay between closest pairs\n",
    "      matrice_differences_ = np.zeros((len(trigg_data_zero_syncr), len(trigg_stim_zero)))\n",
    "      for j in range(len(trigg_data_zero_syncr)):\n",
    "        for k in range(len(trigg_stim_zero)):\n",
    "          matrice_differences_[j, k] = trigg_data_zero_syncr[j] - trigg_stim_zero[k]\n",
    "      # calcul delay between closest pairs\n",
    "      matrice_differences_ = np.zeros((len(trigg_data_zero_syncr), len(trigg_stim_zero)))\n",
    "      for j in range(len(trigg_data_zero_syncr)):\n",
    "        for k in range(len(trigg_stim_zero)):\n",
    "          matrice_differences_[j, k] = trigg_data_zero_syncr[j] - trigg_stim_zero[k]\n",
    "\n",
    "    # mean delay\n",
    "    tmp = np.mean(np.diagonal(matrice_differences_))\n",
    "    print(np.abs(round(tmp, 4)))\n",
    "    if np.abs(round(tmp, 4)) > 0.005 :\n",
    "      i+=1\n",
    "      continue\n",
    "\n",
    "    else :\n",
    "      if i == 0 :\n",
    "        raw_array_ = raw_array[trigg_data_samples[0]:trigg_data_samples[-1],:]\n",
    "        plt.figure()\n",
    "        plt.vlines(trigg_data_zero, 0,1, label = \"trigg_data\")\n",
    "        plt.vlines(trigg_stim_zero, 1,2, color='orange', label = \"trigg_stim\")\n",
    "        plt.xlim(-1,10)\n",
    "        plt.legend()\n",
    "        plt.title(\"after alignement\")\n",
    "      else :\n",
    "        if len(trigg_data_secondes) < len(trigg_stim):\n",
    "          raw_array_ = raw_array[trigg_data_samples[0]:trigg_data_samples[-1],:]\n",
    "          zrs = int((trigg_stim[i]-trigg_stim[0])*fs_data)\n",
    "          add_zeros = np.zeros((zrs, raw_array_.shape[1]))\n",
    "          raw_array_ = np.concatenate((add_zeros, raw_array_), axis=0)\n",
    "\n",
    "        elif len(trigg_data_secondes) > len(trigg_stim):\n",
    "          raw_array_ = raw_array[trigg_data_samples[i]:trigg_data_samples[-1],:]\n",
    "      break\n",
    "\n",
    "  return raw_array_"
   ]
  },
  {
   "cell_type": "markdown",
   "metadata": {
    "collapsed": false
   },
   "source": [
    "## Align"
   ]
  },
  {
   "cell_type": "code",
   "execution_count": 26,
   "metadata": {},
   "outputs": [
    {
     "data": {
      "text/plain": [
       "[\"A'1-A'2\",\n",
       " \"A'2-A'3\",\n",
       " \"A'3-A'4\",\n",
       " \"A'4-A'5\",\n",
       " \"A'5-A'6\",\n",
       " \"A'6-A'9\",\n",
       " \"A'9-A'10\",\n",
       " \"A'10-A'11\",\n",
       " \"A'11-A'12\",\n",
       " \"A'12-A'13\",\n",
       " \"B'1-B'2\",\n",
       " \"B'2-B'3\",\n",
       " \"B'3-B'4\",\n",
       " \"B'4-B'5\",\n",
       " \"B'5-B'6\",\n",
       " \"B'6-B'7\",\n",
       " \"B'7-B'8\",\n",
       " \"B'8-B'9\",\n",
       " \"B'9-B'10\",\n",
       " \"B'10-B'11\",\n",
       " 'B1-B2',\n",
       " 'B2-B3',\n",
       " 'B3-B4',\n",
       " 'B4-B5',\n",
       " 'B5-B6',\n",
       " 'B6-B7',\n",
       " 'B7-B8',\n",
       " 'B8-B9',\n",
       " \"CR'1-CR'2\",\n",
       " \"CR'2-CR'3\",\n",
       " \"CR'3-CR'4\",\n",
       " \"CR'4-CR'5\",\n",
       " \"CR'5-CR'6\",\n",
       " \"CR'6-CR'7\",\n",
       " \"CR'7-CR'8\",\n",
       " \"CR'8-CR'9\",\n",
       " \"CR'9-CR'10\",\n",
       " \"CR'10-CR'11\",\n",
       " \"CR'11-CR'12\",\n",
       " \"CR'12-CR'13\",\n",
       " \"GC'1-GC'2\",\n",
       " \"GC'2-GC'3\",\n",
       " \"GC'3-GC'4\",\n",
       " \"GC'4-GC'5\",\n",
       " \"GC'5-GC'6\",\n",
       " \"GC'6-GC'7\",\n",
       " \"GC'7-GC'8\",\n",
       " \"GC'8-GC'9\",\n",
       " \"GC'9-GC'10\",\n",
       " \"GC'10-GC'11\",\n",
       " \"GC'11-GC'12\",\n",
       " \"GC'12-GC'13\",\n",
       " \"GPH'1-GPH'2\",\n",
       " \"GPH'2-GPH'3\",\n",
       " \"GPH'3-GPH'4\",\n",
       " \"GPH'4-GPH'5\",\n",
       " \"GPH'5-GPH'6\",\n",
       " \"GPH'6-GPH'7\",\n",
       " \"GPH'7-GPH'8\",\n",
       " \"GPH'8-GPH'9\",\n",
       " \"GPH'9-GPH'10\",\n",
       " \"GPH'10-GPH'11\",\n",
       " \"H'1-H'2\",\n",
       " \"H'2-H'3\",\n",
       " \"H'3-H'4\",\n",
       " \"H'4-H'5\",\n",
       " \"H'5-H'6\",\n",
       " \"H'6-H'7\",\n",
       " \"H'7-H'8\",\n",
       " \"H'8-H'9\",\n",
       " \"H'9-H'10\",\n",
       " \"H'10-H'11\",\n",
       " \"H'11-H'12\",\n",
       " \"H'12-H'13\",\n",
       " \"H'13-H'14\",\n",
       " \"Ia'1-Ia'2\",\n",
       " \"Ia'2-Ia'3\",\n",
       " \"Ia'3-Ia'4\",\n",
       " \"Ia'4-Ia'5\",\n",
       " \"Ia'5-Ia'6\",\n",
       " \"Ia'6-Ia'7\",\n",
       " \"Ia'7-Ia'8\",\n",
       " \"Ia'8-Ia'9\",\n",
       " \"Ia'9-Ia'10\",\n",
       " \"Ia'10-Ia'11\",\n",
       " \"Ia'11-Ia'12\",\n",
       " \"Ia'12-Ia'13\",\n",
       " \"Im'1-Im'2\",\n",
       " \"Im'2-Im'3\",\n",
       " \"Im'3-Im'4\",\n",
       " \"Im'4-Im'5\",\n",
       " \"Im'5-Im'6\",\n",
       " \"Im'6-Im'7\",\n",
       " \"Im'7-Im'8\",\n",
       " \"Im'8-Im'9\",\n",
       " \"Im'9-Im'10\",\n",
       " \"Im'10-Im'11\",\n",
       " \"Im'11-Im'12\",\n",
       " \"Im'12-Im'13\",\n",
       " \"OF'1-OF'2\",\n",
       " \"OF'2-OF'3\",\n",
       " \"OF'3-OF'4\",\n",
       " \"OF'4-OF'5\",\n",
       " \"OF'5-OF'6\",\n",
       " \"OF'6-OF'7\",\n",
       " \"OF'7-OF'8\",\n",
       " \"OF'8-OF'9\",\n",
       " \"OF'9-OF'10\",\n",
       " \"OF'10-OF'11\",\n",
       " \"OF'11-OF'12\",\n",
       " \"OF'12-OF'13\",\n",
       " \"OF'13-OF'14\",\n",
       " \"OR'1-OR'2\",\n",
       " \"OR'2-OR'3\",\n",
       " \"OR'3-OR'4\",\n",
       " \"OR'4-OR'5\",\n",
       " \"OR'5-OR'6\",\n",
       " \"OR'6-OR'9\",\n",
       " \"OR'9-OR'10\",\n",
       " \"OR'10-OR'11\",\n",
       " \"OR'11-OR'12\",\n",
       " 'OR1-OR2',\n",
       " 'OR2-OR3',\n",
       " 'OR3-OR4',\n",
       " 'OR4-OR5',\n",
       " 'OR5-OR8',\n",
       " 'OR8-OR9',\n",
       " 'OR9-OR10',\n",
       " 'OR10-OR11',\n",
       " \"OT'1-OT'2\",\n",
       " \"OT'2-OT'3\",\n",
       " \"OT'3-OT'4\",\n",
       " \"OT'4-OT'5\",\n",
       " \"OT'5-OT'6\",\n",
       " \"OT'6-OT'7\",\n",
       " \"OT'7-OT'8\",\n",
       " \"OT'8-OT'9\",\n",
       " \"OT'9-OT'10\",\n",
       " \"OT'10-OT'11\",\n",
       " \"T'1-T'2\",\n",
       " \"T'2-T'3\",\n",
       " \"T'3-T'4\",\n",
       " \"T'4-T'5\",\n",
       " \"T'5-T'6\",\n",
       " \"T'6-T'7\",\n",
       " \"T'7-T'8\",\n",
       " \"TP'1-TP'2\",\n",
       " \"TP'2-TP'3\",\n",
       " \"TP'3-TP'4\",\n",
       " \"TP'4-TP'5\",\n",
       " \"TP'5-TP'6\",\n",
       " \"TP'6-TP'7\",\n",
       " \"TP'7-TP'8\",\n",
       " \"TP'8-TP'9\"]"
      ]
     },
     "execution_count": 26,
     "metadata": {},
     "output_type": "execute_result"
    }
   ],
   "source": [
    "sorted_channels_bipol"
   ]
  },
  {
   "cell_type": "code",
   "execution_count": 11,
   "metadata": {
    "collapsed": false
   },
   "outputs": [
    {
     "name": "stdout",
     "output_type": "stream",
     "text": [
      "Used Annotations descriptions: ['Comment/?', 'Comment/D?but', 'Stimulus/S 128', 'Stimulus/S 192', 'Stimulus/S 200']\n",
      "data : 582\n",
      "stim : 585\n",
      "< number of trigger\n",
      "0.0027\n"
     ]
    }
   ],
   "source": [
    "%matplotlib qt\n",
    "sorciere_aligned = align(raw_fif=sorciere_mne[0], raw_array=sorciere_bipol_sorted[0], stim_dir=os.path.join(sorciere_path,'stim', stim_sorcière[0]))\n"
   ]
  },
  {
   "cell_type": "markdown",
   "metadata": {
    "collapsed": false
   },
   "source": [
    "## Filtering 0.1-8Hz - Z-scoring - Downsampling"
   ]
  },
  {
   "cell_type": "code",
   "execution_count": 12,
   "metadata": {
    "ExecuteTime": {
     "end_time": "2024-05-30T14:13:33.152138Z",
     "start_time": "2024-05-30T14:12:21.783391Z"
    },
    "collapsed": false
   },
   "outputs": [],
   "source": [
    "high_pass = 0.1\n",
    "low_pass = 35\n",
    "\n",
    "fs_data = sorciere_mne[0].info['sfreq']\n",
    "\n",
    "pianos_downsampled = []\n",
    "\n",
    "sorciere_ultimate = prepare_data(data= sorciere_aligned, picks=sorted_channels_bipol, high_pass=high_pass, low_pass=low_pass, fs_data=fs_data)"
   ]
  },
  {
   "cell_type": "markdown",
   "metadata": {
    "collapsed": false
   },
   "source": [
    "## Concatenate Pianos & Load Pianos regressors"
   ]
  },
  {
   "cell_type": "markdown",
   "metadata": {
    "collapsed": false
   },
   "source": [
    "## Load Sorcière regressors"
   ]
  },
  {
   "cell_type": "code",
   "execution_count": 13,
   "metadata": {},
   "outputs": [
    {
     "name": "stdout",
     "output_type": "stream",
     "text": [
      "textgrids importé avec succès.\n"
     ]
    }
   ],
   "source": [
    "import sys\n",
    "sys.path.append(r\"C:\\Users\\nadege\\mambaforge\\Lib\\site-packages\")\n",
    "import textgrids\n",
    "print(\"textgrids importé avec succès.\")\n"
   ]
  },
  {
   "cell_type": "code",
   "execution_count": 14,
   "metadata": {
    "ExecuteTime": {
     "end_time": "2024-05-30T14:13:34.203511Z",
     "start_time": "2024-05-30T14:13:33.818025Z"
    },
    "collapsed": false
   },
   "outputs": [],
   "source": [
    "sorciere_ultimate, sorciere_regs_all, sorciere_regs_all_label = load_sorciere_regressors(sorciere_path, sorciere_ultimate)"
   ]
  },
  {
   "cell_type": "markdown",
   "metadata": {
    "collapsed": false
   },
   "source": [
    "## Define models"
   ]
  },
  {
   "cell_type": "code",
   "execution_count": 15,
   "metadata": {
    "ExecuteTime": {
     "end_time": "2024-05-30T14:13:34.235844Z",
     "start_time": "2024-05-30T14:13:34.203511Z"
    },
    "collapsed": false
   },
   "outputs": [],
   "source": [
    "# Sorcière\n",
    "## loudness, brighness, periodicity + derivatives_hr + onset syllabe\n",
    "model_acoustic = [0, 1, 3, 12, 13, 15, 18]\n",
    "\n",
    "## acoustic + onset_word + surprise + entropy\n",
    "model_predictif = [0, 1, 3, 12, 13, 15, 18, 19, 20]\n",
    "\n",
    "sorciere_regs_acoustic, sorciere_regs_acoustic_label, sorciere_regs_predictive, sorciere_regs_predictive_labels = model_definition(sorciere_regs_all, sorciere_regs_all_label, model_acoustic, model_predictif)\n"
   ]
  },
  {
   "cell_type": "code",
   "execution_count": 31,
   "metadata": {},
   "outputs": [
    {
     "data": {
      "text/plain": [
       "['loudness',\n",
       " 'brightness',\n",
       " 'periodicity',\n",
       " 'half_rectified_der_loudness',\n",
       " 'half_rectified_der_brightness',\n",
       " 'half_rectified_der_periodicity',\n",
       " 'syllabe_onset',\n",
       " 'onsets',\n",
       " 'entropy']"
      ]
     },
     "execution_count": 31,
     "metadata": {},
     "output_type": "execute_result"
    }
   ],
   "source": [
    "sorciere_regs_predictive_labels"
   ]
  },
  {
   "cell_type": "markdown",
   "metadata": {
    "collapsed": false
   },
   "source": [
    "## TRF"
   ]
  },
  {
   "cell_type": "code",
   "execution_count": 16,
   "metadata": {
    "ExecuteTime": {
     "end_time": "2024-05-30T14:13:34.250682Z",
     "start_time": "2024-05-30T14:13:34.235844Z"
    },
    "collapsed": false
   },
   "outputs": [],
   "source": [
    "from datetime import datetime\n",
    "\n",
    "start_at = datetime.now()"
   ]
  },
  {
   "cell_type": "code",
   "execution_count": 19,
   "metadata": {},
   "outputs": [],
   "source": [
    "fs = 100"
   ]
  },
  {
   "cell_type": "code",
   "execution_count": 20,
   "metadata": {
    "ExecuteTime": {
     "end_time": "2024-05-30T14:13:34.260699Z",
     "start_time": "2024-05-30T14:13:34.250682Z"
    },
    "collapsed": false
   },
   "outputs": [],
   "source": [
    "n_folds = 5\n",
    "tw_trf = [-2, 2]  #in sec\n",
    "\n",
    "coefs_times = np.linspace(tw_trf[0], tw_trf[1], int(np.diff(tw_trf) * fs + 1))  #get TRF time-axis\n",
    "\n",
    "alphas = [1e-4, 1e-2, 1e2, 1e4, 1e6, 1e8]"
   ]
  },
  {
   "cell_type": "markdown",
   "metadata": {
    "collapsed": false
   },
   "source": [
    "### Sorcière : acoustic TRF"
   ]
  },
  {
   "cell_type": "code",
   "execution_count": 21,
   "metadata": {},
   "outputs": [
    {
     "name": "stdout",
     "output_type": "stream",
     "text": [
      "Bibliothèque importée avec succès.\n"
     ]
    }
   ],
   "source": [
    "import sys\n",
    "sys.path.append(r\"C:\\Users\\nadege\\mambaforge\\Lib\\site-packages\")\n",
    "import spyeeg\n",
    "print(\"Bibliothèque importée avec succès.\")"
   ]
  },
  {
   "cell_type": "code",
   "execution_count": null,
   "metadata": {},
   "outputs": [
    {
     "data": {
      "text/plain": [
       "array([[[-0.93146294, -0.71820297, -1.04636823, ..., -0.46331206,\n",
       "         -0.57505556,  0.        ]],\n",
       "\n",
       "       [[-1.69609743, -2.39421712, -1.1731964 , ..., -0.46331206,\n",
       "         -0.57505556,  0.        ]],\n",
       "\n",
       "       [[-1.50710331, -1.97501603, -1.15277995, ...,  1.36111533,\n",
       "         -0.4734942 ,  0.        ]],\n",
       "\n",
       "       ...,\n",
       "\n",
       "       [[ 0.62345085, -0.73698744,  0.85280011, ...,  0.53137815,\n",
       "         -0.57505556,  0.        ]],\n",
       "\n",
       "       [[ 0.82475343, -0.65446351,  0.98321863, ..., -0.10415527,\n",
       "          0.07370962,  0.        ]],\n",
       "\n",
       "       [[ 0.88995856, -0.60196518,  0.90492382, ..., -0.23483127,\n",
       "         -0.57505556,  0.        ]]])"
      ]
     },
     "execution_count": 29,
     "metadata": {},
     "output_type": "execute_result"
    }
   ],
   "source": []
  },
  {
   "cell_type": "code",
   "execution_count": 22,
   "metadata": {
    "ExecuteTime": {
     "end_time": "2024-05-30T14:20:51.641298Z",
     "start_time": "2024-05-30T14:13:34.260699Z"
    },
    "collapsed": false
   },
   "outputs": [
    {
     "data": {
      "text/plain": [
       "200"
      ]
     },
     "execution_count": 22,
     "metadata": {},
     "output_type": "execute_result"
    }
   ],
   "source": [
    "sorciere_regs_acoustic_scores_cv, sorciere_regs_acoustic_coefs_fit = trf_spyeeg(\n",
    "                                                    regs = np.squeeze(sorciere_regs_acoustic),\n",
    "                                                    data = np.squeeze(sorciere_ultimate),\n",
    "                                                    tmin=tw_trf[0], tmax=tw_trf[1],\n",
    "                                                    fs=fs,\n",
    "                                                    alpha=alphas,\n",
    "                                                    channels=sorted_channels_bipol)\n",
    "\n",
    "\n",
    "# save r2 in .mat format\n",
    "scipy.io.savemat(out_path+'/sorciere_acoustic.mat',\n",
    "                 {'data' : sorciere_ultimate,\n",
    "                  'channels': sorted_channels_bipol,\n",
    "                  'r2': sorciere_regs_acoustic_scores_cv,\n",
    "                  'kernels':sorciere_regs_acoustic_coefs_fit,\n",
    "                  'fs': fs})\n",
    "\n",
    "gc.collect()"
   ]
  },
  {
   "cell_type": "markdown",
   "metadata": {
    "collapsed": false
   },
   "source": [
    "### Sorcière : predictive TRF"
   ]
  },
  {
   "cell_type": "code",
   "execution_count": 23,
   "metadata": {
    "ExecuteTime": {
     "end_time": "2024-05-30T14:35:32.810139Z",
     "start_time": "2024-05-30T14:20:51.646285Z"
    },
    "collapsed": false
   },
   "outputs": [
    {
     "data": {
      "text/plain": [
       "0"
      ]
     },
     "execution_count": 23,
     "metadata": {},
     "output_type": "execute_result"
    }
   ],
   "source": [
    "sorciere_regs_predictive_scores_cv, sorciere_regs_predictive_coefs_fit = trf_spyeeg(\n",
    "regs = np.squeeze(sorciere_regs_predictive),\n",
    "data = np.squeeze(sorciere_ultimate),\n",
    "tmin=tw_trf[0], tmax=tw_trf[1],\n",
    "fs=fs,alpha=alphas,channels=sorted_channels_bipol)\n",
    "\n",
    "# save r2 in .mat format\n",
    "scipy.io.savemat(out_path+'/sorciere_predictive.mat',\n",
    "                 {'data' : sorciere_ultimate,\n",
    "                  'channels': sorted_channels_bipol,\n",
    "                  'r2': sorciere_regs_predictive_scores_cv,\n",
    "                  'kernels':sorciere_regs_predictive_coefs_fit,\n",
    "                  'fs': fs})\n",
    "\n",
    "gc.collect()"
   ]
  },
  {
   "cell_type": "code",
   "execution_count": null,
   "metadata": {},
   "outputs": [
    {
     "ename": "NameError",
     "evalue": "name 'locations' is not defined",
     "output_type": "error",
     "traceback": [
      "\u001b[1;31m---------------------------------------------------------------------------\u001b[0m",
      "\u001b[1;31mNameError\u001b[0m                                 Traceback (most recent call last)",
      "Cell \u001b[1;32mIn[25], line 14\u001b[0m\n\u001b[0;32m     12\u001b[0m r2 \u001b[38;5;241m=\u001b[39m sorciere_regs_acoustic_scores_cv  \u001b[38;5;66;03m# ou predictive selon ce que tu veux exporter\u001b[39;00m\n\u001b[0;32m     13\u001b[0m channels \u001b[38;5;241m=\u001b[39m sorted_channels_bipol\n\u001b[1;32m---> 14\u001b[0m locations_subject \u001b[38;5;241m=\u001b[39m \u001b[43mlocations\u001b[49m[subject]  \u001b[38;5;66;03m# array (3, n_channels)\u001b[39;00m\n\u001b[0;32m     16\u001b[0m \u001b[38;5;66;03m# ========================\u001b[39;00m\n\u001b[0;32m     17\u001b[0m \u001b[38;5;66;03m# THRESHOLD\u001b[39;00m\n\u001b[0;32m     18\u001b[0m \u001b[38;5;66;03m# ========================\u001b[39;00m\n\u001b[0;32m     19\u001b[0m percentiles_gros \u001b[38;5;241m=\u001b[39m [\u001b[38;5;241m1\u001b[39m, \u001b[38;5;241m99\u001b[39m]\n",
      "\u001b[1;31mNameError\u001b[0m: name 'locations' is not defined"
     ]
    }
   ],
   "source": [
    "import numpy as np\n",
    "import pickle\n",
    "import pandas as pd\n",
    "\n",
    "# ========================\n",
    "# PARAMS\n",
    "# ========================\n",
    "\n",
    "\n",
    "r2 = sorciere_regs_acoustic_scores_cv  # ou predictive selon ce que tu veux exporter\n",
    "channels = sorted_channels_bipol\n",
    "locations_subject = locations[subject]  # array (3, n_channels)\n",
    "\n",
    "# ========================\n",
    "# THRESHOLD\n",
    "# ========================\n",
    "percentiles_gros = [1, 99]\n",
    "percentiles_seuil_r2 = 90\n",
    "thresh_type = \"mean\"\n",
    "standards = 0\n",
    "\n",
    "perc = np.percentile(r2, percentiles_gros)\n",
    "filtered = r2[r2 >= perc[0]]\n",
    "\n",
    "if thresh_type == \"median\":\n",
    "    threshold = np.median(filtered) + np.median(filtered) / 10000\n",
    "elif thresh_type == \"mean\":\n",
    "    threshold = np.mean(filtered) + np.std(filtered) * standards\n",
    "elif thresh_type == \"percentile\":\n",
    "    threshold = np.percentile(filtered, percentiles_seuil_r2)\n",
    "\n",
    "# ========================\n",
    "# BUILD results_dict\n",
    "# ========================\n",
    "results_dict = {\n",
    "    'df': pd.DataFrame([{\n",
    "        'subject': subject,\n",
    "        'ch_names': channels,\n",
    "        'scores': r2,\n",
    "        'ch_names_masked': [\n",
    "            \"_\" if score < threshold else ch \n",
    "            for score, ch in zip(r2, channels)\n",
    "        ],\n",
    "        'scores_masked': np.where(r2 < threshold, -np.inf, r2),\n",
    "        'threshold': threshold\n",
    "    }])\n",
    "}\n",
    "\n",
    "# ========================\n",
    "# BUILD all_locs (3, n_channels)\n",
    "# ========================\n",
    "all_locs = locations_subject  # si un seul sujet\n",
    "# ou bien np.concatenate([locations[subject]], axis=1) si tu veux garder la forme générale\n",
    "\n",
    "# ========================\n",
    "# EXPORT FINAL\n",
    "# ========================\n",
    "out_path = os.path.join(output_path, f'results_trf_{origin}_{montage_type}.pkl')\n",
    "print(\"Exporting to:\", out_path)\n",
    "\n",
    "with open(out_path, 'wb') as f:\n",
    "    pickle.dump([results_dict, all_locs], f)\n",
    "\n",
    "print(\"✅ Export complet .pkl (results_dict + all_locs)\")\n"
   ]
  },
  {
   "cell_type": "markdown",
   "metadata": {},
   "source": [
    "### Generate a .txt file with scores "
   ]
  },
  {
   "cell_type": "code",
   "execution_count": 51,
   "metadata": {
    "ExecuteTime": {
     "end_time": "2024-05-30T14:39:30.369505Z",
     "start_time": "2024-05-30T14:39:30.344581Z"
    }
   },
   "outputs": [],
   "source": [
    "# Create the full path to the file\n",
    "filename = os.path.join(out_path, 'scores.txt')\n",
    "\n",
    "with open(filename, 'w') as file:\n",
    "    # Write the header with aligned columns\n",
    "    file.write(f'{\"Channel\":<10}{\"Speech Acoustic (in %)\":<25}{\"Speech Predictif (in %)\":<30}{\"Music Acoustic (in %)\":<30}{\"Music Predictif (in %)\":<30}\\n')\n",
    "\n",
    "    # Write data to the file\n",
    "    for chan, scr1, scr2, scr3, scr4 in zip(sorted_channels_bipol, sorciere_regs_acoustic_scores_cv, sorciere_regs_predictive_scores_cv, pianos_regs_acoustic_scores_cv, pianos_regs_predictive_scores_cv):\n",
    "        file.write(f'{chan:<15}{round(scr1*100,2):<30}{round(scr2*100,2):<25}{round(scr3*100,2):<30}{round(scr4*100,2):<20}\\n')\n"
   ]
  },
  {
   "cell_type": "markdown",
   "metadata": {
    "collapsed": false
   },
   "source": [
    "## Plot results"
   ]
  },
  {
   "cell_type": "markdown",
   "metadata": {
    "collapsed": false
   },
   "source": [
    "### R2, PCI & ERP - with matlab"
   ]
  },
  {
   "cell_type": "code",
   "execution_count": 52,
   "metadata": {
    "ExecuteTime": {
     "end_time": "2024-05-30T17:38:07.616302Z",
     "start_time": "2024-05-30T14:39:30.369505Z"
    },
    "collapsed": false
   },
   "outputs": [
    {
     "name": "stdout",
     "output_type": "stream",
     "text": [
      "Start at : 2025-04-11 16:14:02.166881\n",
      "End at: 2025-04-11 16:15:00.756938\n"
     ]
    }
   ],
   "source": [
    "import matlab.engine\n",
    "from datetime import datetime\n",
    "\n",
    "print('Start at :', datetime.now())\n",
    "\n",
    "\n",
    "# Démarrer le moteur MATLAB\n",
    "eng = matlab.engine.start_matlab()\n",
    "# run MATLAB script\n",
    "eng.eval(f\"out_path = '{out_path}'; run('C:/Users/nadege/Desktop/camille/seeg/agnes/sEEG_rsqr_pci.m')\", nargout=0)\n",
    "#eng.eval(f\"out_path = '{out_path}'; run('//dynaserv/home/trebuchon/Desktop/Python_code/sEEG_rsqr_pci.m')\", nargout=0)\n",
    "\n",
    "\n",
    "print(\"End at:\", datetime.now())"
   ]
  }
 ],
 "metadata": {
  "kernelspec": {
   "display_name": "mon_env_mne_2",
   "language": "python",
   "name": "mon_env_mne_2"
  },
  "language_info": {
   "codemirror_mode": {
    "name": "ipython",
    "version": 3
   },
   "file_extension": ".py",
   "mimetype": "text/x-python",
   "name": "python",
   "nbconvert_exporter": "python",
   "pygments_lexer": "ipython3",
   "version": "3.10.9"
  }
 },
 "nbformat": 4,
 "nbformat_minor": 0
}
